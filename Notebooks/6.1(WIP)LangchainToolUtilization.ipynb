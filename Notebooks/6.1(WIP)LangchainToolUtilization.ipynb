{
 "cells": [
  {
   "cell_type": "markdown",
   "id": "eed1bdc8",
   "metadata": {},
   "source": [
    "## LangChain's Tool Utilization: Examining Diverse Applications through Illustrative Scenarios\n",
    "\n",
    "### Introduction\n",
    "Tools are modular, reusable components meticulously designed to accomplish specific tasks or provide answers to distinct types of questions. By integrating these tools seamlessly into the system, users can effortlessly tap into a diverse range of functionalities and information sources to tackle challenges and generate meaningful responses. In this lesson, we will explore the various Tools in LangChain, uncovering their unique capabilities.\n",
    "\n",
    "A few notable examples of tools in LangChain, without getting into technical details, are:\n",
    "\n",
    "+ **Google Search**: This tool uses the Google Search API to fetch relevant information from the web, which can be used to answer queries related to current events, facts, or any topic where a quick search can provide accurate results.\n",
    "\n",
    "+ **Requests**: This tool employs the popular Python library \"requests\" to interact with web services, access APIs, or obtain data from different online sources. It can be particularly useful for gathering structured data or specific information from a web service.\n",
    "\n",
    "+ **Python REPL**: The Python REPL (Read-Eval-Print Loop) tool allows users to execute Python code on-the-fly to perform calculations, manipulate data, or test algorithms. It serves as an interactive programming environment within the LangChain system.\n",
    "\n",
    "+ **Wikipedia**: The Wikipedia tool leverages the Wikipedia API to search and retrieve relevant articles, summaries, or specific information from the vast repository of knowledge on the Wikipedia platform.\n",
    "\n",
    "+ **Wolfram Alpha**: With this tool, users can tap into the powerful computational knowledge engine of Wolfram Alpha to answer complex questions, perform advanced calculations, or generate visual representations of data."
   ]
  },
  {
   "cell_type": "code",
   "execution_count": 1,
   "id": "cd05af1e",
   "metadata": {},
   "outputs": [],
   "source": [
    "# !pip install langchain==0.1.4 deeplake openai==0.27.8 tiktoken deeplake google-search-results"
   ]
  },
  {
   "cell_type": "code",
   "execution_count": 6,
   "id": "a9ecff3e",
   "metadata": {},
   "outputs": [
    {
     "data": {
      "text/plain": [
       "True"
      ]
     },
     "execution_count": 6,
     "metadata": {},
     "output_type": "execute_result"
    }
   ],
   "source": [
    "# Load environment variables\n",
    "from dotenv import load_dotenv,find_dotenv\n",
    "load_dotenv(find_dotenv())"
   ]
  },
  {
   "cell_type": "markdown",
   "id": "d940f8cb",
   "metadata": {},
   "source": [
    "## LangChain Agents and Toolkits\n",
    "\n",
    "In LangChain, an Agent is a bot that acts using natural language instructions and can use tools to answer its queries. Based on user input, it is also used to determine which actions to take and in what order. An action can either be using a tool (such as a search engine or a calculator) and processing its output or returning a response to the user. Agents are powerful when used correctly, as they can dynamically call chains based on user input.\n",
    "\n",
    "An agent has access to a suite of tools and can decide which of these tools to call, depending on the user input. Tools are functions that perform specific duties. To create an agent in LangChain, you can use the initialize_agent function along with the `load_tools` function to prepare the tools the agent can use. \n",
    "\n",
    "For example, you can create a simple agent using the following code."
   ]
  },
  {
   "cell_type": "code",
   "execution_count": 7,
   "id": "5da4f1a3",
   "metadata": {},
   "outputs": [],
   "source": [
    "from langchain.agents import load_tools\n",
    "from langchain.agents import initialize_agent\n",
    "from langchain.agents import AgentType\n",
    "from langchain import OpenAI\n",
    "\n",
    "llm = OpenAI(model_name=\"gpt-3.5-turbo-instruct\", temperature=0)\n",
    "tools = load_tools(['serpapi', 'requests_all'], llm=llm, serpapi_api_key=\"58007e92b6256a22f46bf23abe417705233f8da5aa30bc224beaf86598be7434\")\n",
    "agent = initialize_agent(tools, llm, agent=AgentType.ZERO_SHOT_REACT_DESCRIPTION, handle_parsing_errors=True, verbose=True)"
   ]
  },
  {
   "cell_type": "code",
   "execution_count": 8,
   "id": "02c155eb",
   "metadata": {},
   "outputs": [
    {
     "name": "stdout",
     "output_type": "stream",
     "text": [
      "\n",
      "\n",
      "\u001b[1m> Entering new AgentExecutor chain...\u001b[0m\n",
      "\u001b[32;1m\u001b[1;3m I should use a search engine to find the definition of midjourney\n",
      "Action: Search\n",
      "Action Input: \"midjourney\"\u001b[0m\n",
      "Observation: \u001b[36;1m\u001b[1;3m[\"Midjourney is a generative artificial intelligence program and service created and hosted by the San Francisco–based independent research lab Midjourney, Inc. Midjourney generates images from natural language descriptions, called prompts, similar to OpenAI's DALL-E and Stability AI's Stable Diffusion.\", 'Midjourney type: Computer program.', 'Midjourney kgmid: /g/11t4b6xmqk.', 'Midjourney developer_s: Midjourney, Inc.', 'Midjourney initial_release: July 12, 2022; 19 months ago (open beta).', 'An independent research lab exploring new mediums of thought and expanding the imaginative powers of the human species.', 'With Midjourney, you can create high-quality images from simple text prompts for free. Just enter a text description of the image and get the result in a few ...', 'Midjourney is a generative artificial intelligence program and service created and hosted by the San Francisco–based independent research lab Midjourney, ...', 'The official server for Midjourney, a text-to-image AI where your imagination is the only limit. | 19259787 members.', 'r/midjourney: An official subreddit for Midjourney related content.']\u001b[0m\n",
      "Thought:\u001b[32;1m\u001b[1;3m I now know the final answer\n",
      "Final Answer: Midjourney is a generative artificial intelligence program and service created and hosted by the San Francisco–based independent research lab Midjourney, Inc.\u001b[0m\n",
      "\n",
      "\u001b[1m> Finished chain.\u001b[0m\n"
     ]
    }
   ],
   "source": [
    "#We can use the run method with a natural language input to run the agent.\n",
    "#The agent will then use the tool to look for an answer to the query.\n",
    "text = agent.run(\"tell me what is midjourney?\")"
   ]
  },
  {
   "cell_type": "markdown",
   "id": "4cd3ef7e",
   "metadata": {},
   "source": [
    "## Google-Search\n",
    "\n",
    "LLMs inherently possess knowledge only up to the point at which they were trained, leaving them unaware of any information beyond that timeframe. Integrating search engines as tools within the LangChain system presents a significant advantage. The LangChain library provides a Google Search API wrapper that you can use within your project. You can use this wrapper as a standalone utility or as a tool within an agent.\n",
    "\n",
    "First, make sure you have an API Key and Custom Search Engine ID for the Google Search API. If you don’t already have a Custom Search Engine ID, the following tutorial is a helpful guide for generating one."
   ]
  },
  {
   "cell_type": "code",
   "execution_count": 9,
   "id": "0c2bc351",
   "metadata": {},
   "outputs": [
    {
     "data": {
      "text/plain": [
       "[{'title': 'Madrid, Spain - Image of the Week - Earth Watching',\n",
       "  'link': 'https://earth.esa.int/web/earth-watching/image-of-the-week/content/-/article/madrid-spain/',\n",
       "  'snippet': 'Madrid is the capital and largest city of Spain. The population of the city is roughly 3.3 million and the entire population of the Madrid metropolitan area\\xa0...'},\n",
       " {'title': 'Madrid - Wikipedia',\n",
       "  'link': 'https://en.wikipedia.org/wiki/Madrid',\n",
       "  'snippet': 'Madrid lies on the River Manzanares in the central part of the Iberian Peninsula at about 650 meters above mean sea level. The capital city of both Spain and\\xa0...'},\n",
       " {'title': 'Madrid | History, Population, Climate, & Facts | Britannica',\n",
       "  'link': 'https://www.britannica.com/place/Madrid',\n",
       "  'snippet': \"3 days ago ... Madrid, city, capital of Spain and of Madrid provincia (province). Spain's arts and financial centre, the city proper and province form a\\xa0...\"}]"
      ]
     },
     "execution_count": 9,
     "metadata": {},
     "output_type": "execute_result"
    }
   ],
   "source": [
    "# As a standalone utility:\n",
    "from langchain.utilities import GoogleSearchAPIWrapper\n",
    "\n",
    "#We can use GoogleSearchAPIWrapper to receive k top search results given a query. \n",
    "search = GoogleSearchAPIWrapper()\n",
    "search.results(\"What is the capital of Spain?\", 3)"
   ]
  },
  {
   "cell_type": "markdown",
   "id": "2c3a09b4",
   "metadata": {},
   "source": [
    "We can initialize an agent and load the `google-search` tool for it to use. The agent will load the search results and provide them to the `llm` to answer our question. The `ZERO_SHOT_REACT_DESCRIPTION` type gives the freedom to choose any of the defined tools to provide context for the model based on their description."
   ]
  },
  {
   "cell_type": "code",
   "execution_count": 10,
   "id": "41b0c7d7",
   "metadata": {},
   "outputs": [],
   "source": [
    "from langchain.llms import OpenAI\n",
    "\n",
    "llm = OpenAI(model_name=\"gpt-3.5-turbo-instruct\", temperature=0)"
   ]
  },
  {
   "cell_type": "code",
   "execution_count": 11,
   "id": "0f1a383e",
   "metadata": {},
   "outputs": [
    {
     "name": "stdout",
     "output_type": "stream",
     "text": [
      "\n",
      "\n",
      "\u001b[1m> Entering new AgentExecutor chain...\u001b[0m\n",
      "\u001b[32;1m\u001b[1;3m I should always think about what to do\n",
      "Action: google_search\n",
      "Action Input: \"national drink in Spain\"\u001b[0m\n",
      "Observation: \u001b[36;1m\u001b[1;3mSangría is Spain's national drink, so of course it belongs on this list! Spain is famous for it's wine, which is the base of this drink. Lots of fresh fruit and ... The national drink of Spain. Although there is nothing officially considered the national alcoholic drink of Spain, many people would say is the Spanish sherry ... One of them is the belief that sangría is widely consumed in Spain, that it is our national drink as many tourists think. Ok, maybe you know some people ... Nov 27, 2012 ... The fervor with which Spaniards drink gin & tonics is, to say the least, impressive. ... national drink (and that ampersands are expendable). From ... Apr 20, 2021 ... Top 10 Most Popular Drinks in Spain · Sangria · Cava · Vermouth · Horchata · Clara · Mojito · Beer. The list with Spanish drinks that are most ... \"Very Old Rare Sherry\", Pedro Ximenez by Garvey. Jerez de la Frontera (Andalusia, Spain), aged 30 years. Sherry is a national liquor of Spain. Traditional Spanish drinks · 1. Granizado · 2. Cava · 3. Rioja · 4. Ratafia · 5. Queimada · 6. Rebujito · 7. Jerez · 8. Sangria. Mar 6, 2023 ... Tinto de Verano is the most popular Spanish cocktail that you've never heard of. Sangria might be the first drink that foreigners think of, but ... Aug 1, 2012 ... A porron is a traditional Catalan glass wine pitcher and is truly a national symbol of Spain. It resembles a cross between a wine bottle and ... Feb 18, 2024 ... ... Spain, though originating in Catalonia and eventually spreading to other parts of Spain. This method allows everyone to drink from the same ...\u001b[0m\n",
      "Thought:\u001b[32;1m\u001b[1;3m I now know the final answer\n",
      "Final Answer: Sangría is the national drink of Spain.\u001b[0m\n",
      "\n",
      "\u001b[1m> Finished chain.\u001b[0m\n",
      "{'input': 'What is the national drink in Spain?', 'output': 'Sangría is the national drink of Spain.'}\n"
     ]
    }
   ],
   "source": [
    "from langchain.agents import initialize_agent, load_tools, AgentType\n",
    "\n",
    "tools = load_tools([\"google-search\"])\n",
    "\n",
    "agent = initialize_agent(\n",
    "    tools,\n",
    "    llm,\n",
    "    agent=AgentType.ZERO_SHOT_REACT_DESCRIPTION,\n",
    "    verbose=True  \n",
    ")\n",
    "\n",
    "print( agent(\"What is the national drink in Spain?\") )"
   ]
  },
  {
   "cell_type": "markdown",
   "id": "6fdb718e",
   "metadata": {},
   "source": [
    "## Requests\n",
    "\n",
    "The internet is an extensive source of information that Large Language Models cannot access directly. LangChain offers a convenient wrapper built around the Python Requests module to facilitate seamless interaction between LLMs and this wealth of information. This wrapper accepts a URL as an input and efficiently retrieves data from the specified URL, allowing LLMs to obtain and process web-based content effortlessly."
   ]
  },
  {
   "cell_type": "code",
   "execution_count": null,
   "id": "1a71030a",
   "metadata": {},
   "outputs": [],
   "source": []
  }
 ],
 "metadata": {
  "kernelspec": {
   "display_name": "Python 3 (ipykernel)",
   "language": "python",
   "name": "python3"
  },
  "language_info": {
   "codemirror_mode": {
    "name": "ipython",
    "version": 3
   },
   "file_extension": ".py",
   "mimetype": "text/x-python",
   "name": "python",
   "nbconvert_exporter": "python",
   "pygments_lexer": "ipython3",
   "version": "3.8.3"
  }
 },
 "nbformat": 4,
 "nbformat_minor": 5
}
