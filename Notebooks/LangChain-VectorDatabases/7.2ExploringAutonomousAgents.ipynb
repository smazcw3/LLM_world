{
 "cells": [
  {
   "cell_type": "markdown",
   "id": "4abd53d3",
   "metadata": {},
   "source": [
    "## Exploring the Fascinating World of Autonomous Agents: A Closer Look at AutoGPT and BabyAGI\n",
    "\n",
    "### Introduction\n",
    "AutoGPT and BabyAGI are two exciting developments in the world of autonomous agents, which are AI systems designed to carry out tasks without needing constant human guidance. These innovative agents are making waves due to their ability to work independently to achieve a specific objective. Their introduction has led to unreal hype with over 100k stars on GitHub, and they've been heralded as a peek into the future.\n",
    "\n",
    "AutoGPT, an open-source initiative, employs GPT-4 to sift through the internet in a structured manner, formulate subtasks, and initiate new agents. This project has quickly become a sensation, marked by its rapid growth in popularity among the GitHub community. On the other hand, BabyAGI functions similarly via the integration of GPT-4, a vector store, and LangChain. It creates tasks based on prior outcomes and a set goal.\n",
    "\n",
    "While Auto GPT and similar technologies are rapidly evolving, developers are also building and improving on these models. The intrigue surrounding these autonomous agents stems from a few key factors:\n",
    "\n",
    "+ **Limited human involvement:** Unlike traditional systems like ChatGPT that require human prompts, autonomous agents such as AutoGPT and BabyAGI require minimal human intervention.\n",
    "\n",
    "+ **Diverse applications:** The potential use cases for these autonomous agents are vast, spanning from personal assistants and problem solvers to automated aids for tasks like email management and prospecting.\n",
    "\n",
    "+ **Swift progress:** The rapid pace of growth and interest in these projects highlights the significant potential of autonomous agents to revolutionize the AI landscape and beyond.\n",
    "To effectively utilize these agents, we need to start by setting long-term goals tailored to the project's specific needs. These goals might encompass generating high-quality natural language text, answering questions with accuracy and context, and learning from user interactions for continuous performance improvement.\n",
    "\n",
    "### What is AutoGPT?\n",
    "AutoGPT, a type of autonomous AI agent, is designed to carry out tasks until they are solved. \n",
    "\n",
    "It brings three key features to the table:\n",
    "\n",
    "+ Firstly, it's connected to the internet, allowing for real-time research and information retrieval.\n",
    "+ Secondly, it can self-prompt, generating a list of sub-tasks to accomplish a given task.\n",
    "+ Lastly, it can execute tasks, including spinning up other AI agents. While the first two features have been successful, the execution aspect has met with some challenges, including getting caught in loops or wrongly assuming a task has been completed.\n",
    "The initial conception of AutoGPT was as a general autonomous agent capable of doing anything. However, this wide breadth of application seemed to dilute its effectiveness. As a result, a shift has been observed in the AutoGPT space, with developers starting to build specialized agents. These agents are designed to perform specific tasks effectively and efficiently, making them more practically useful. \n",
    "\n",
    "### How AutoGPT work?\n",
    "The concept behind AutoGPT is simple yet profound. Rather than only generating text in response to prompts like plain ChatGPT and GPT-4, AutoGPT is designed to generate, prioritize, and execute tasks. These tasks can range in complexity and are not confined to mere text generation.\n",
    "\n",
    "AutoGPT can understand the overall goal, break it down into subtasks, execute those tasks, and dynamically adjust its actions based on the ongoing context.\n",
    "AutoGPT uses plugins for internet browsing and other forms of access to gather necessary information. The outside memory serves as its context-aware module, enabling it to evaluate its current situation, generate new tasks, self-correct if needed, and add new tasks to its queue. This allows for a dynamic flow of operations where tasks are executed and constantly reprioritized based on the context and situation. This understanding of the task, the environment, and the goal at each point in the process transforms AutoGPT from a passive text generator into an active, goal-oriented agent.\n",
    "\n",
    "While this could open up new vistas of AI-powered productivity and problem-solving, it also ushers in new challenges regarding control, misuse, and unforeseen consequences.\n",
    "\n",
    "### What is BabyAGI?\n",
    "Baby AGI works similarly to autoGPT. It operates in an infinite loop, pulling tasks from a list, executing them, enriching the results, and creating new tasks based on the previous task's objective and results. The concept is similar, but the specific implementation is different. Let’s see it in more detail.\n",
    "\n",
    "### How BabyAGI works\n",
    "BabyAGI operates in a loop that revolves around four main sub-agents: the Execution Agent, the Task Creation Agent, the Prioritization Agent, and the Context Agent.\n",
    "\n",
    "1. **Execution Agent:** This is the agent that executes the tasks. It takes an objective and a task as parameters, constructs a prompt based on these inputs, and feeds it to a LLM (e.g. GPT4). The LLM then returns a result, which is the outcome of executing the task.\n",
    "2. **Task Creation Agent:** Here, the system creates new tasks based on the previously executed task's objective and result. The agent uses a prompt that includes the task description and the current task list and feeds this prompt to the LLM, which generates a list of new tasks. These tasks are returned as a list of dictionaries, each dictionary representing a new task.\n",
    "3. **Prioritization Agent:** This function is responsible for prioritizing the tasks in the tasks list.\n",
    "4. **Context Agent:** The scope of this agent is to collect the results from the Execution Agent and merge them with all the other intermediate results from the previous executions of the Execution Agent.\n",
    "\n",
    "<img src=\"../../images/BabyAGI.png\" width=500 height=100 />"
   ]
  },
  {
   "cell_type": "markdown",
   "id": "6d5ff7a0",
   "metadata": {},
   "source": [
    "We can conclude the following about BabyAGI\n",
    "\n",
    "1. BabyAGI is an autonomous AI agent designed to execute tasks, generate new tasks based on previous task results, and re-prioritize tasks in real time. This showcases the potential of AI-powered language models to perform tasks autonomously within various constraints and contexts.\n",
    "2. The system utilizes the power of GPT-4 for task execution, a vector database for efficient search and storage of task-related data, and the LangChain framework to enhance the decision-making processes. The integration of these technologies allows BabyAGI to interact with its environment and perform tasks efficiently.\n",
    "3. A key feature of the system is its task management. BabyAGI maintains a task list for managing and prioritizing tasks. The system autonomously generates new tasks based on completed results and dynamically re-prioritizes the task list, highlighting the adaptability of AI-powered language models.\n",
    "4. By using GPT-4 and LangChain's capabilities, BabyAGI cannot only complete tasks but also enrich and store results in the database. The agent thus becomes a learning system that can adapt and respond to new information and priorities."
   ]
  },
  {
   "cell_type": "code",
   "execution_count": 1,
   "id": "cd05af1e",
   "metadata": {},
   "outputs": [],
   "source": [
    "# !pip install langchain==0.1.4 deeplake openai==0.27.8 tiktoken deeplake google-search-results"
   ]
  },
  {
   "cell_type": "code",
   "execution_count": 2,
   "id": "a9ecff3e",
   "metadata": {},
   "outputs": [
    {
     "data": {
      "text/plain": [
       "True"
      ]
     },
     "execution_count": 2,
     "metadata": {},
     "output_type": "execute_result"
    }
   ],
   "source": [
    "# Load environment variables\n",
    "from dotenv import load_dotenv,find_dotenv\n",
    "load_dotenv(find_dotenv())"
   ]
  },
  {
   "cell_type": "markdown",
   "id": "80e8d1ba",
   "metadata": {},
   "source": [
    "### A Code Example of Using BabyAGI\n",
    "\n",
    "Although BabyAGI uses specific vector stores and model providers, one of the benefits of implementing it with LangChain is that you can easily swap those out for different options. In this implementation, we use a FAISS vector store.\n",
    "\n",
    "We then create a vector store. Depending on what vector store you use, this step may look different. To proceed, please install either the faiss-gpu or faiss-cpu library. While we recommend utilizing the latest version of libraries, it is important to note that the codes have been tested using version 1.7.2. Remember to install the other required packages with the following command: `pip install langchain==0.1.4 deeplake openai==1.10.0 tiktoken langchain_experimental`. If you get the error Could not find a version that satisfies the requirement faiss (from versions: none) install the faiss library `pip install faiss-cpu`"
   ]
  },
  {
   "cell_type": "code",
   "execution_count": 3,
   "id": "e10e617d",
   "metadata": {},
   "outputs": [
    {
     "name": "stderr",
     "output_type": "stream",
     "text": [
      "/Users/smaz-home/anaconda3/lib/python3.8/site-packages/langchain_core/_api/deprecation.py:117: LangChainDeprecationWarning: The class `langchain_community.embeddings.openai.OpenAIEmbeddings` was deprecated in langchain-community 0.0.9 and will be removed in 0.2.0. An updated version of the class exists in the langchain-openai package and should be used instead. To use it run `pip install -U langchain-openai` and import as `from langchain_openai import OpenAIEmbeddings`.\n",
      "  warn_deprecated(\n",
      "`embedding_function` is expected to be an Embeddings object, support for passing in a function will soon be removed.\n"
     ]
    }
   ],
   "source": [
    "from langchain.embeddings import OpenAIEmbeddings\n",
    "import faiss\n",
    "from langchain.vectorstores import FAISS\n",
    "from langchain.docstore import InMemoryDocstore\n",
    "\n",
    "# Define the embedding model\n",
    "embeddings_model = OpenAIEmbeddings(model=\"text-embedding-ada-002\")\n",
    "\n",
    "# Initialize the vectorstore\n",
    "embedding_size = 1536\n",
    "index = faiss.IndexFlatL2(embedding_size)\n",
    "vectorstore = FAISS(embeddings_model.embed_query, index, InMemoryDocstore({}), {})"
   ]
  },
  {
   "cell_type": "code",
   "execution_count": null,
   "id": "8f0edda9",
   "metadata": {},
   "outputs": [
    {
     "name": "stderr",
     "output_type": "stream",
     "text": [
      "/Users/smaz-home/anaconda3/lib/python3.8/site-packages/langchain_core/_api/deprecation.py:117: LangChainDeprecationWarning: The class `langchain_community.llms.openai.OpenAI` was deprecated in langchain-community 0.0.10 and will be removed in 0.2.0. An updated version of the class exists in the langchain-openai package and should be used instead. To use it run `pip install -U langchain-openai` and import as `from langchain_openai import OpenAI`.\n",
      "  warn_deprecated(\n",
      "/Users/smaz-home/anaconda3/lib/python3.8/site-packages/langchain_core/_api/deprecation.py:117: LangChainDeprecationWarning: The function `__call__` was deprecated in LangChain 0.1.0 and will be removed in 0.2.0. Use invoke instead.\n",
      "  warn_deprecated(\n"
     ]
    },
    {
     "name": "stdout",
     "output_type": "stream",
     "text": [
      "\u001b[95m\u001b[1m\n",
      "*****TASK LIST*****\n",
      "\u001b[0m\u001b[0m\n",
      "1: Make a todo list\n",
      "\u001b[92m\u001b[1m\n",
      "*****NEXT TASK*****\n",
      "\u001b[0m\u001b[0m\n",
      "1: Make a todo list\n",
      "\u001b[93m\u001b[1m\n",
      "*****TASK RESULT*****\n",
      "\u001b[0m\u001b[0m\n",
      "\n",
      "1. Research transportation options to the Grand Canyon (flight, train, car rental)\n",
      "2. Determine the best time of year to visit based on weather and crowds\n",
      "3. Book accommodations (hotel, campground, Airbnb)\n",
      "4. Create a budget for the trip (including transportation, accommodations, food, and activities)\n",
      "5. Plan out daily activities and attractions to visit at the Grand Canyon (hiking trails, viewpoints, tours)\n",
      "6. Make reservations for any necessary activities or tours\n",
      "7. Pack appropriate clothing and gear for the trip (hiking shoes, sunscreen, water bottle)\n",
      "8. Plan out meals and make reservations at restaurants or purchase groceries for cooking\n",
      "9. Research and plan for any additional side trips or activities in the surrounding area\n",
      "10. Create a detailed itinerary for the trip, including travel days and activities for each day.\n",
      "\u001b[95m\u001b[1m\n",
      "*****TASK LIST*****\n",
      "\u001b[0m\u001b[0m\n",
      "1: Determine the best time of year to visit the Grand Canyon based on weather and crowds.\n",
      "2: Research different flight options to the Grand Canyon and compare prices and schedules.\n",
      "3: Look into train routes and schedules to the Grand Canyon and compare with flight options.\n",
      "4: Research car rental companies and compare prices and availability for a trip to the Grand Canyon.\n",
      "5: Look into different hotel options near the Grand Canyon and compare prices and amenities.\n",
      "6: Research campgrounds near the Grand Canyon and compare prices and availability.\n",
      "7: Explore Airbnb options near the Grand Canyon and compare prices and amenities.\n",
      "8: Create a budget for the trip, including transportation, accommodations, food, and activities.\n",
      "9: Plan out daily activities and attractions to visit at the Grand Canyon, including hiking trails, viewpoints, and tours.\n",
      "10: Make reservations for any necessary activities or tours at the Grand Canyon.\n",
      "11: Pack appropriate clothing and gear for the trip, such as hiking shoes, sunscreen, and a water bottle.\n",
      "12: Plan out meals for the trip and make reservations at restaurants or purchase groceries for cooking.\n",
      "13: Research and plan for any additional side trips or activities in the surrounding area of the Grand Canyon.\n",
      "14: Create a detailed itinerary for the trip, including travel days and activities\n",
      "\u001b[92m\u001b[1m\n",
      "*****NEXT TASK*****\n",
      "\u001b[0m\u001b[0m\n",
      "1: Determine the best time of year to visit the Grand Canyon based on weather and crowds.\n",
      "\u001b[93m\u001b[1m\n",
      "*****TASK RESULT*****\n",
      "\u001b[0m\u001b[0m\n",
      "\n",
      "\n",
      "After analyzing weather and crowd data, I have determined that the best time of year to visit the Grand Canyon is during the months of September and October. During this time, the weather is mild and comfortable, with average temperatures ranging from 60-80 degrees Fahrenheit. Additionally, the crowds are significantly smaller compared to the peak summer months, allowing for a more enjoyable and less crowded experience. I recommend adding this information to your todo list for planning your trip to the Grand Canyon.\n",
      "\u001b[95m\u001b[1m\n",
      "*****TASK LIST*****\n",
      "\u001b[0m\u001b[0m\n",
      "1: Research and book flights to the Grand Canyon for September or October.\n",
      "2: Look into train routes and schedules to the Grand Canyon and compare with flight options.\n",
      "3: Research and book a rental car for the trip to the Grand Canyon.\n",
      "4: Research and book a hotel near the Grand Canyon for the trip.\n",
      "5: Research and book a campground near the Grand Canyon for the trip.\n",
      "6: Explore Airbnb options near the Grand Canyon and compare prices and amenities.\n",
      "7: Create a budget for the trip, including transportation, accommodations, food, and activities.\n",
      "8: Plan out daily activities and attractions to visit at the Grand Canyon, including hiking trails, viewpoints, and tours.\n",
      "9: Make reservations for any necessary activities or tours at the Grand Canyon.\n",
      "10: Pack appropriate clothing and gear for the trip, such as hiking shoes, sunscreen, and a water bottle.\n",
      "11: Plan out meals for the trip and make reservations at restaurants or purchase groceries for cooking.\n",
      "12: Research and plan for any additional side trips or activities in the surrounding area of the Grand Canyon.\n",
      "13: Create a detailed itinerary for the trip, including travel days and activities.\n",
      "\u001b[92m\u001b[1m\n",
      "*****NEXT TASK*****\n",
      "\u001b[0m\u001b[0m\n",
      "1: Research and book flights to the Grand Canyon for September or October.\n",
      "\u001b[93m\u001b[1m\n",
      "*****TASK RESULT*****\n",
      "\u001b[0m\u001b[0m\n",
      "\n",
      "\n",
      "Based on the previously completed task of determining the best time of year to visit the Grand Canyon, I have researched and found that September and October are the ideal months to visit due to the pleasant weather and lower crowds. Therefore, I suggest booking flights for September or October to ensure the best experience at the Grand Canyon. I can assist with researching and booking flights for you. Would you like me to proceed with this task?\n"
     ]
    }
   ],
   "source": [
    "from langchain import OpenAI\n",
    "from langchain_experimental.autonomous_agents import BabyAGI\n",
    "\n",
    "# set the goal\n",
    "goal = \"Plan a trip to the Grand Canyon\"\n",
    "\n",
    "# create thebabyagi agent\n",
    "# If max_iterations is None, the agent may go on forever if stuck in loops\n",
    "baby_agi = BabyAGI.from_llm(\n",
    "    llm=OpenAI(model=\"gpt-3.5-turbo-instruct\", temperature=0),\n",
    "    vectorstore=vectorstore,\n",
    "    verbose=False,\n",
    "    max_iterations=3\n",
    ")\n",
    "response = baby_agi({\"objective\": goal})"
   ]
  },
  {
   "cell_type": "markdown",
   "id": "7c98d0ce",
   "metadata": {},
   "source": [
    "This output reflects the systematic way in which the BabyAGI model approaches tasks. \n",
    "\n",
    "It begins by outlining the tasks, making a to-do list regarding a trip to the Grand Canyon, then it proceeds to complete each task one by one. \n",
    "\n",
    "For each task, it not only lists out the information gained through research but also offers a plan of action or what steps it would take to accomplish the task.\n",
    "\n",
    "The agent also dynamically updates its task list based on new information or steps necessary to accomplish broader tasks, like researching the best ways to get to the Grand Canyon, then breaking it down into more specific sub-tasks. This sequential, methodical approach underscores BabyAGI's ability to handle multi-step tasks in an organized manner.\n",
    "\n",
    "### Future Possibilities\n",
    "\n",
    "The future possibilities for AI agents like BabyAGI and AutoGPT are truly exciting, based on the potential improvements and applications.\n",
    "\n",
    "As for the current status, each autonomous agent has its strengths and challenges: AutoGPT is powerful for complex tasks, though it has a steeper learning curve. BabyAGI excels at providing detailed task lists toward a goal, though it does face implementation hurdles. They both sometimes fall short in executing tasks, but these agents are improving every day with the effort of the open-source community.\n",
    "\n",
    "These AI agents are already showing how they can navigate tasks and problems with autonomy that was previously the domain of human intellect. "
   ]
  },
  {
   "cell_type": "code",
   "execution_count": null,
   "id": "ad849582",
   "metadata": {},
   "outputs": [],
   "source": []
  }
 ],
 "metadata": {
  "kernelspec": {
   "display_name": "Python 3 (ipykernel)",
   "language": "python",
   "name": "python3"
  },
  "language_info": {
   "codemirror_mode": {
    "name": "ipython",
    "version": 3
   },
   "file_extension": ".py",
   "mimetype": "text/x-python",
   "name": "python",
   "nbconvert_exporter": "python",
   "pygments_lexer": "ipython3",
   "version": "3.8.3"
  }
 },
 "nbformat": 4,
 "nbformat_minor": 5
}
