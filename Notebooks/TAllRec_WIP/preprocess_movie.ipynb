{
 "cells": [
  {
   "cell_type": "code",
   "execution_count": 1,
   "id": "4cb92d11",
   "metadata": {},
   "outputs": [],
   "source": [
    "#Reference -- https://github.com/SAI990323/TALLRec/blob/main/preprocess_movie.py"
   ]
  },
  {
   "cell_type": "code",
   "execution_count": 2,
   "id": "0fd57595",
   "metadata": {},
   "outputs": [],
   "source": [
    "#Change the current path of the execution\n",
    "import sys\n",
    "import os\n",
    "cwd = f'{os.getcwd()}/../../src/'\n",
    "sys.path.append(cwd)\n",
    "os.chdir(cwd)"
   ]
  },
  {
   "cell_type": "code",
   "execution_count": 3,
   "id": "b420d9b0",
   "metadata": {},
   "outputs": [],
   "source": [
    "%load_ext autoreload\n",
    "%autoreload 2"
   ]
  },
  {
   "cell_type": "code",
   "execution_count": 4,
   "id": "bc63948f",
   "metadata": {},
   "outputs": [],
   "source": [
    "import sys\n",
    "import json\n",
    "import numpy as np\n",
    "import pandas as pd\n",
    "from subprocess import call"
   ]
  },
  {
   "cell_type": "code",
   "execution_count": 5,
   "id": "b3006e86",
   "metadata": {},
   "outputs": [
    {
     "name": "stderr",
     "output_type": "stream",
     "text": [
      "  % Total    % Received % Xferd  Average Speed   Time    Time     Time  Current\n",
      "                                 Dload  Upload   Total   Spent    Left  Speed\n",
      "  0     0    0     0    0     0      0      0 --:--:--  0:00:01 --:--:--     0Warning: Failed to create the file datasets/ml-100k.zip: No such file or \n",
      "Warning: directory\n",
      "  0 4808k    0  4065    0     0   1618      0  0:50:43  0:00:02  0:50:41  1617\n",
      "curl: (23) Failure writing output to destination\n",
      "unzip:  cannot find or open datasets/ml-100k.zip, datasets/ml-100k.zip.zip or datasets/ml-100k.zip.ZIP.\n"
     ]
    },
    {
     "data": {
      "text/plain": [
       "9"
      ]
     },
     "execution_count": 5,
     "metadata": {},
     "output_type": "execute_result"
    }
   ],
   "source": [
    "# #Downloading and saving the data\n",
    "# if os.path.exists(os.path.join('datasets', 'ml-100k')):\n",
    "#   print(\"Directory exists!\")\n",
    "# else:\n",
    "#   print(\"Directory not exists!\")\n",
    "#   file_path = os.path.join('datasets', 'ml-100k.zip')\n",
    "#   call(['curl', 'http://files.grouplens.org/datasets/movielens/ml-100k.zip', '-L' ,'-o', file_path])\n",
    "#   call(['unzip', '-o', file_path, '-d', 'datasets/'])\n",
    "\n",
    "file_path = os.path.join('datasets', 'ml-100k.zip')\n",
    "call(['curl', 'http://files.grouplens.org/datasets/movielens/ml-100k.zip', '-L' ,'-o', file_path])\n",
    "call(['unzip', '-o', file_path, '-d', 'datasets/'])"
   ]
  },
  {
   "cell_type": "code",
   "execution_count": null,
   "id": "1cddf6d9",
   "metadata": {},
   "outputs": [],
   "source": [
    "#f = open('u.data', 'r')\n",
    "f = open(os.path.join(\"datasets\", \"ml-100k\", 'u.data'), 'r')\n",
    "data = f.readlines()\n",
    "#f = open('u.item', 'r', encoding='ISO-8859-1')\n",
    "f = open(os.path.join(\"datasets\", \"ml-100k\", 'u.item'), 'r', encoding='ISO-8859-1')\n",
    "movies = f.readlines()\n",
    "#f = open('u.user', 'r')\n",
    "f = open(os.path.join(\"datasets\", \"ml-100k\", \"u.user\"), 'r')\n",
    "users = f.readlines()"
   ]
  },
  {
   "cell_type": "code",
   "execution_count": null,
   "id": "6da8c309",
   "metadata": {},
   "outputs": [],
   "source": [
    "movie_names = [_.split('|')[1] for _ in movies] # movie_names[0] = 'Toy Story (1995)'\n",
    "user_ids = [_.split('|')[0] for _ in users] # user_ids[0] = '1'\n",
    "movie_ids = [_.split('|')[0] for _ in movies] # movie_ids[0] = '1'"
   ]
  },
  {
   "cell_type": "code",
   "execution_count": null,
   "id": "3a82d438",
   "metadata": {},
   "outputs": [],
   "source": [
    "#Converting data from csv to dictionary\n",
    "interaction_dicts = dict()  \n",
    "for line in data:\n",
    "    user_id, movie_id, rating, timestamp = line.split('\\t')\n",
    "    if user_id not in interaction_dicts:\n",
    "        interaction_dicts[user_id] = {\n",
    "            'movie_id': [],\n",
    "            'rating': [],\n",
    "            'timestamp': [],\n",
    "        }\n",
    "    interaction_dicts[user_id]['movie_id'].append(movie_id)\n",
    "    interaction_dicts[user_id]['rating'].append(int(int(rating) > 3))\n",
    "    interaction_dicts[user_id]['timestamp'].append(timestamp)"
   ]
  },
  {
   "cell_type": "code",
   "execution_count": null,
   "id": "33838284",
   "metadata": {},
   "outputs": [],
   "source": [
    "interaction_dicts"
   ]
  },
  {
   "cell_type": "code",
   "execution_count": null,
   "id": "ea07c060",
   "metadata": {},
   "outputs": [],
   "source": [
    "#Creating movie id and movie name\n",
    "with open('datasets/item_mapping.csv', 'w') as f:\n",
    "    import csv\n",
    "    writer = csv.writer(f)\n",
    "    writer.writerow(['movie_id', 'movie_name'])\n",
    "    for i, name in enumerate(movie_names):\n",
    "        writer.writerow([i + 1, name])"
   ]
  },
  {
   "cell_type": "code",
   "execution_count": null,
   "id": "4cfc2f7b",
   "metadata": {},
   "outputs": [],
   "source": [
    "#Creating list of lists where each sublist consists of [user_id, movie_ids, ratings, target_movie_id, timestamp]\n",
    "sequential_interaction_list = []\n",
    "seq_len = 10\n",
    "for user_id in interaction_dicts:\n",
    "    temp = zip(interaction_dicts[user_id]['movie_id'], interaction_dicts[user_id]['rating'], interaction_dicts[user_id]['timestamp'])\n",
    "    temp = sorted(temp, key=lambda x: x[2]) #-> sorting the map by timestamp\n",
    "    result = zip(*temp)\n",
    "    interaction_dicts[user_id]['movie_id'], interaction_dicts[user_id]['rating'], interaction_dicts[user_id]['timestamp'] = [list(_) for _ in result]\n",
    "    for i in range(10, len(interaction_dicts[user_id]['movie_id'])):\n",
    "        sequential_interaction_list.append(\n",
    "            [user_id, \n",
    "             interaction_dicts[user_id]['movie_id'][i-seq_len:i], \n",
    "             interaction_dicts[user_id]['rating'][i-seq_len:i], \n",
    "             interaction_dicts[user_id]['movie_id'][i], \n",
    "             interaction_dicts[user_id]['rating'][i], \n",
    "             interaction_dicts[user_id]['timestamp'][i].strip('\\n')\n",
    "            ]\n",
    "        )"
   ]
  },
  {
   "cell_type": "code",
   "execution_count": null,
   "id": "c4f85226",
   "metadata": {},
   "outputs": [],
   "source": [
    "sequential_interaction_list"
   ]
  },
  {
   "cell_type": "code",
   "execution_count": null,
   "id": "1936509c",
   "metadata": {},
   "outputs": [],
   "source": [
    "#Getting the most recent 10000 sequence interactions from the sequential interactions list\n",
    "sequential_interaction_list = sequential_interaction_list[-10000:] # 10000 \n",
    "sequential_interaction_list"
   ]
  },
  {
   "cell_type": "code",
   "execution_count": null,
   "id": "22137149",
   "metadata": {},
   "outputs": [],
   "source": [
    "#Creating train, test and validation data\n",
    "import csv\n",
    "# save the csv file for baselines\n",
    "with open('datasets/train.csv', 'w') as f:\n",
    "    writer = csv.writer(f)\n",
    "    writer.writerow(['user_id', 'history_movie_id', 'history_rating', 'movie_id', 'rating', 'timestamp'])\n",
    "    writer.writerows(sequential_interaction_list[:int(len(sequential_interaction_list)*0.8)])\n",
    "with open('datasets/valid.csv', 'w') as f:\n",
    "    writer = csv.writer(f)\n",
    "    writer.writerow(['user_id', 'history_movie_id', 'history_rating', 'movie_id', 'rating', 'timestamp'])\n",
    "    writer.writerows(sequential_interaction_list[int(len(sequential_interaction_list)*0.8):int(len(sequential_interaction_list)*0.9)])\n",
    "with open('datasets/test.csv', 'w') as f:\n",
    "    writer = csv.writer(f)\n",
    "    writer.writerow(['user_id', 'history_movie_id', 'history_rating', 'movie_id', 'rating', 'timestamp'])\n",
    "    writer.writerows(sequential_interaction_list[int(len(sequential_interaction_list)*0.9):])"
   ]
  },
  {
   "cell_type": "code",
   "execution_count": null,
   "id": "63d5d7a4",
   "metadata": {},
   "outputs": [],
   "source": [
    "#Converting csv to json\n",
    "def csv_to_json(input_path, output_path):\n",
    "    data = pd.read_csv(input_path)\n",
    "    json_list = []\n",
    "    for index, row in data.iterrows():\n",
    "        row['history_movie_id'] = eval(row['history_movie_id'])\n",
    "        row['history_rating'] = eval(row['history_rating'])\n",
    "        L = len(row['history_movie_id'])\n",
    "        preference = []\n",
    "        unpreference = []\n",
    "        for i in range(L):\n",
    "            if int(row['history_rating'][i]) == 1:\n",
    "                preference.append(movie_names[int(row['history_movie_id'][i]) - 1])\n",
    "            else:\n",
    "                unpreference.append(movie_names[int(row['history_movie_id'][i]) - 1])\n",
    "        target_movie = movie_names[int(row['movie_id']) - 1]\n",
    "        preference_str = \"\"\n",
    "        unpreference_str = \"\"\n",
    "        for i in range(len(preference)):\n",
    "            if i == 0:\n",
    "                preference_str += \"\\\"\" + preference[i] + \"\\\"\"\n",
    "            else:\n",
    "                preference_str += \", \\\"\" + preference[i] + \"\\\"\"\n",
    "        for i in range(len(unpreference)):\n",
    "            if i == 0:\n",
    "                unpreference_str += \"\\\"\" + unpreference[i] + \"\\\"\"\n",
    "            else:\n",
    "                unpreference_str += \", \\\"\" + unpreference[i] + \"\\\"\"\n",
    "        target_preference = int(row['rating'])\n",
    "        target_movie_str = \"\\\"\" + target_movie + \"\\\"\"\n",
    "        target_preference_str = \"Yes.\" if target_preference == 1 else \"No.\"\n",
    "        json_list.append({\n",
    "            \"instruction\": \"Given the user's preference and unpreference, identify whether the user will like the target movie by answering \\\"Yes.\\\" or \\\"No.\\\".\",\n",
    "            \"input\": f\"User Preference: {preference_str}\\nUser Unpreference: {unpreference_str}\\nWhether the user will like the target movie {target_movie_str}?\",\n",
    "            \"output\": target_preference_str,\n",
    "        })\n",
    "        \n",
    "    with open(output_path, 'w') as f:\n",
    "        json.dump(json_list, f, indent=4)\n",
    "\n",
    "# generate the json file for the TALLRec\n",
    "csv_to_json('datasets/train.csv', 'datasets/train.json')\n",
    "csv_to_json('datasets/valid.csv', 'datasets/valid.json')\n",
    "csv_to_json('datasets/test.csv', 'datasets/test.json')"
   ]
  },
  {
   "cell_type": "code",
   "execution_count": null,
   "id": "10c6fee3",
   "metadata": {},
   "outputs": [],
   "source": [
    "with open('datasets/train.json', 'r') as lst:\n",
    "    b = json.load(lst)\n",
    "    print(b)"
   ]
  },
  {
   "cell_type": "code",
   "execution_count": null,
   "id": "cbc30163",
   "metadata": {},
   "outputs": [],
   "source": [
    "#For reading each sample (Task Instruction + Task Input, Task Output)\n",
    "for line in b:\n",
    "    print(line[\"instruction\"])\n",
    "    print(line[\"input\"])\n",
    "    print(line[\"output\"])\n",
    "    print()"
   ]
  }
 ],
 "metadata": {
  "kernelspec": {
   "display_name": "Python 3 (ipykernel)",
   "language": "python",
   "name": "python3"
  },
  "language_info": {
   "codemirror_mode": {
    "name": "ipython",
    "version": 3
   },
   "file_extension": ".py",
   "mimetype": "text/x-python",
   "name": "python",
   "nbconvert_exporter": "python",
   "pygments_lexer": "ipython3",
   "version": "3.8.3"
  }
 },
 "nbformat": 4,
 "nbformat_minor": 5
}
