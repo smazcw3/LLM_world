{
  "cells": [
    {
      "cell_type": "code",
      "execution_count": 1,
      "id": "da857dad",
      "metadata": {
        "id": "da857dad"
      },
      "outputs": [],
      "source": [
        "#Change the current path of the execution\n",
        "import sys\n",
        "import os\n",
        "cwd = os.path.abspath(os.path.join(os.getcwd(), '../..'))\n",
        "sys.path.append(cwd)\n",
        "os.chdir(cwd)"
      ]
    },
    {
      "cell_type": "code",
      "execution_count": 2,
      "id": "5ae8e1d4",
      "metadata": {
        "id": "5ae8e1d4"
      },
      "outputs": [],
      "source": [
        "%load_ext autoreload\n",
        "%autoreload 2"
      ]
    },
    {
      "cell_type": "code",
      "execution_count": 3,
      "id": "bf1b31b7",
      "metadata": {
        "id": "bf1b31b7"
      },
      "outputs": [],
      "source": [
        "import pandas as pd\n",
        "import requests\n",
        "from tqdm import tqdm\n",
        "import random\n",
        "import json\n",
        "import csv"
      ]
    },
    {
      "cell_type": "markdown",
      "id": "71b42b9c",
      "metadata": {
        "id": "71b42b9c"
      },
      "source": [
        "### Downloading Book-Crossing dataset"
      ]
    },
    {
      "cell_type": "code",
      "execution_count": 4,
      "id": "62f15701",
      "metadata": {
        "id": "62f15701"
      },
      "outputs": [],
      "source": [
        "data_dir = 'llm_datasets/book_crossing'\n",
        "os.makedirs(data_dir, exist_ok=True)"
      ]
    },
    {
      "cell_type": "code",
      "execution_count": 5,
      "id": "2065317f",
      "metadata": {
        "id": "2065317f",
        "outputId": "41ae483c-8f4a-48c5-ef5d-509d660625a2",
        "colab": {
          "base_uri": "https://localhost:8080/"
        }
      },
      "outputs": [
        {
          "output_type": "stream",
          "name": "stdout",
          "text": [
            "Downloading BX-Book-Ratings.csv from https://raw.githubusercontent.com/rochitasundar/Collaborative-Filtering-Book-Recommendation-System/master/BX-Book-Ratings.csv\n",
            "Successfully saved to llm_datasets/book_crossing/BX-Book-Ratings.csv\n",
            "Downloading BX-Books.csv from https://raw.githubusercontent.com/rochitasundar/Collaborative-Filtering-Book-Recommendation-System/master/BX-Books.csv\n",
            "Successfully saved to llm_datasets/book_crossing/BX-Books.csv\n",
            "Downloading BX-Users.csv from https://raw.githubusercontent.com/rochitasundar/Collaborative-Filtering-Book-Recommendation-System/master/BX-Users.csv\n",
            "Successfully saved to llm_datasets/book_crossing/BX-Users.csv\n"
          ]
        }
      ],
      "source": [
        "# Function to convert GitHub URL to raw URL\n",
        "def get_raw_url(github_url):\n",
        "    return github_url.replace('github.com', 'raw.githubusercontent.com').replace('/blob/', '/')\n",
        "\n",
        "# GitHub URLs for the dataset files\n",
        "github_urls = [\n",
        "    'https://github.com/rochitasundar/Collaborative-Filtering-Book-Recommendation-System/blob/master/BX-Book-Ratings.csv',\n",
        "    'https://github.com/rochitasundar/Collaborative-Filtering-Book-Recommendation-System/blob/master/BX-Books.csv',\n",
        "    'https://github.com/rochitasundar/Collaborative-Filtering-Book-Recommendation-System/blob/master/BX-Users.csv'\n",
        "]\n",
        "\n",
        "# Download all files\n",
        "for url in github_urls:\n",
        "    raw_url = get_raw_url(url)\n",
        "    filename = url.split('/')[-1]\n",
        "    local_path = os.path.join(data_dir, filename)\n",
        "\n",
        "    print(f\"Downloading {filename} from {raw_url}\")\n",
        "    response = requests.get(raw_url)\n",
        "\n",
        "    if response.status_code == 200:\n",
        "        with open(local_path, 'wb') as f:\n",
        "            f.write(response.content)\n",
        "        print(f\"Successfully saved to {local_path}\")\n",
        "    else:\n",
        "        print(f\"Failed to download {filename}. Status code: {response.status_code}\")"
      ]
    },
    {
      "cell_type": "markdown",
      "id": "24d98e16",
      "metadata": {
        "id": "24d98e16"
      },
      "source": [
        "### Reading the data"
      ]
    },
    {
      "cell_type": "code",
      "execution_count": 6,
      "id": "73b9dcfc",
      "metadata": {
        "id": "73b9dcfc",
        "outputId": "7c168429-807d-4ffa-9410-c65684237c7e",
        "colab": {
          "base_uri": "https://localhost:8080/"
        }
      },
      "outputs": [
        {
          "output_type": "stream",
          "name": "stdout",
          "text": [
            "\n",
            "Reading downloaded files...\n"
          ]
        },
        {
          "output_type": "stream",
          "name": "stderr",
          "text": [
            "<ipython-input-6-6bd99bac6eaf>:14: DtypeWarning: Columns (3) have mixed types. Specify dtype option on import or set low_memory=False.\n",
            "  books = pd.read_csv(os.path.join(data_dir, \"BX-Books.csv\"), sep=';', encoding=\"latin-1\", on_bad_lines='skip')\n"
          ]
        },
        {
          "output_type": "stream",
          "name": "stdout",
          "text": [
            "Rating shape: (1031136, 10)\n",
            "Users shape: (278858, 3)\n",
            "Books shape: (271360, 8)\n",
            "Created book_item_mapping.csv\n"
          ]
        }
      ],
      "source": [
        "# Now read the files using your original format\n",
        "print(\"\\nReading downloaded files...\")\n",
        "\n",
        "# Read the files using the format you specified\n",
        "try:\n",
        "    rating = pd.read_csv(os.path.join(data_dir, \"BX-Book-Ratings.csv\"), sep=';', encoding=\"latin-1\")\n",
        "    users = pd.read_csv(os.path.join(data_dir, \"BX-Users.csv\"), sep=';', encoding=\"latin-1\")\n",
        "\n",
        "    # Note: error_bad_lines is deprecated in newer pandas versions\n",
        "    # Use on_bad_lines='skip' instead for newer pandas versions\n",
        "    try:\n",
        "        books = pd.read_csv(os.path.join(data_dir, \"BX-Books.csv\"), sep=';', encoding=\"latin-1\", error_bad_lines=False)\n",
        "    except TypeError:\n",
        "        books = pd.read_csv(os.path.join(data_dir, \"BX-Books.csv\"), sep=';', encoding=\"latin-1\", on_bad_lines='skip')\n",
        "\n",
        "    # Merge rating with books on ISBN\n",
        "    rating = pd.merge(rating, books, on='ISBN', how='inner')\n",
        "\n",
        "    # Save books dataframe to a new CSV file\n",
        "    books.to_csv(os.path.join(data_dir, 'book_item_mapping.csv'), index=True)\n",
        "\n",
        "    # Print information about the dataframes\n",
        "    print(f\"Rating shape: {rating.shape}\")\n",
        "    print(f\"Users shape: {users.shape}\")\n",
        "    print(f\"Books shape: {books.shape}\")\n",
        "    print(f\"Created book_item_mapping.csv\")\n",
        "\n",
        "except Exception as e:\n",
        "    print(f\"Error processing data: {e}\")"
      ]
    },
    {
      "cell_type": "code",
      "execution_count": 7,
      "id": "1b77fdc8",
      "metadata": {
        "id": "1b77fdc8",
        "outputId": "f1826659-76e2-4f32-af46-9852a6d86f29",
        "colab": {
          "base_uri": "https://localhost:8080/",
          "height": 276
        }
      },
      "outputs": [
        {
          "output_type": "execute_result",
          "data": {
            "text/plain": [
              "   User-ID        ISBN  Book-Rating  \\\n",
              "0   276725  034545104X            0   \n",
              "1   276726  0155061224            5   \n",
              "2   276727  0446520802            0   \n",
              "3   276729  052165615X            3   \n",
              "4   276729  0521795028            6   \n",
              "\n",
              "                                          Book-Title      Book-Author  \\\n",
              "0                               Flesh Tones: A Novel       M. J. Rose   \n",
              "1                                   Rites of Passage       Judith Rae   \n",
              "2                                       The Notebook  Nicholas Sparks   \n",
              "3                                     Help!: Level 1    Philip Prowse   \n",
              "4  The Amsterdam Connection : Level 4 (Cambridge ...      Sue Leather   \n",
              "\n",
              "  Year-Of-Publication                   Publisher  \\\n",
              "0                2002            Ballantine Books   \n",
              "1                2001                      Heinle   \n",
              "2                1996                Warner Books   \n",
              "3                1999  Cambridge University Press   \n",
              "4                2001  Cambridge University Press   \n",
              "\n",
              "                                         Image-URL-S  \\\n",
              "0  http://images.amazon.com/images/P/034545104X.0...   \n",
              "1  http://images.amazon.com/images/P/0155061224.0...   \n",
              "2  http://images.amazon.com/images/P/0446520802.0...   \n",
              "3  http://images.amazon.com/images/P/052165615X.0...   \n",
              "4  http://images.amazon.com/images/P/0521795028.0...   \n",
              "\n",
              "                                         Image-URL-M  \\\n",
              "0  http://images.amazon.com/images/P/034545104X.0...   \n",
              "1  http://images.amazon.com/images/P/0155061224.0...   \n",
              "2  http://images.amazon.com/images/P/0446520802.0...   \n",
              "3  http://images.amazon.com/images/P/052165615X.0...   \n",
              "4  http://images.amazon.com/images/P/0521795028.0...   \n",
              "\n",
              "                                         Image-URL-L  \n",
              "0  http://images.amazon.com/images/P/034545104X.0...  \n",
              "1  http://images.amazon.com/images/P/0155061224.0...  \n",
              "2  http://images.amazon.com/images/P/0446520802.0...  \n",
              "3  http://images.amazon.com/images/P/052165615X.0...  \n",
              "4  http://images.amazon.com/images/P/0521795028.0...  "
            ],
            "text/html": [
              "\n",
              "  <div id=\"df-709e4457-6d83-4f66-8291-21885b51d02b\" class=\"colab-df-container\">\n",
              "    <div>\n",
              "<style scoped>\n",
              "    .dataframe tbody tr th:only-of-type {\n",
              "        vertical-align: middle;\n",
              "    }\n",
              "\n",
              "    .dataframe tbody tr th {\n",
              "        vertical-align: top;\n",
              "    }\n",
              "\n",
              "    .dataframe thead th {\n",
              "        text-align: right;\n",
              "    }\n",
              "</style>\n",
              "<table border=\"1\" class=\"dataframe\">\n",
              "  <thead>\n",
              "    <tr style=\"text-align: right;\">\n",
              "      <th></th>\n",
              "      <th>User-ID</th>\n",
              "      <th>ISBN</th>\n",
              "      <th>Book-Rating</th>\n",
              "      <th>Book-Title</th>\n",
              "      <th>Book-Author</th>\n",
              "      <th>Year-Of-Publication</th>\n",
              "      <th>Publisher</th>\n",
              "      <th>Image-URL-S</th>\n",
              "      <th>Image-URL-M</th>\n",
              "      <th>Image-URL-L</th>\n",
              "    </tr>\n",
              "  </thead>\n",
              "  <tbody>\n",
              "    <tr>\n",
              "      <th>0</th>\n",
              "      <td>276725</td>\n",
              "      <td>034545104X</td>\n",
              "      <td>0</td>\n",
              "      <td>Flesh Tones: A Novel</td>\n",
              "      <td>M. J. Rose</td>\n",
              "      <td>2002</td>\n",
              "      <td>Ballantine Books</td>\n",
              "      <td>http://images.amazon.com/images/P/034545104X.0...</td>\n",
              "      <td>http://images.amazon.com/images/P/034545104X.0...</td>\n",
              "      <td>http://images.amazon.com/images/P/034545104X.0...</td>\n",
              "    </tr>\n",
              "    <tr>\n",
              "      <th>1</th>\n",
              "      <td>276726</td>\n",
              "      <td>0155061224</td>\n",
              "      <td>5</td>\n",
              "      <td>Rites of Passage</td>\n",
              "      <td>Judith Rae</td>\n",
              "      <td>2001</td>\n",
              "      <td>Heinle</td>\n",
              "      <td>http://images.amazon.com/images/P/0155061224.0...</td>\n",
              "      <td>http://images.amazon.com/images/P/0155061224.0...</td>\n",
              "      <td>http://images.amazon.com/images/P/0155061224.0...</td>\n",
              "    </tr>\n",
              "    <tr>\n",
              "      <th>2</th>\n",
              "      <td>276727</td>\n",
              "      <td>0446520802</td>\n",
              "      <td>0</td>\n",
              "      <td>The Notebook</td>\n",
              "      <td>Nicholas Sparks</td>\n",
              "      <td>1996</td>\n",
              "      <td>Warner Books</td>\n",
              "      <td>http://images.amazon.com/images/P/0446520802.0...</td>\n",
              "      <td>http://images.amazon.com/images/P/0446520802.0...</td>\n",
              "      <td>http://images.amazon.com/images/P/0446520802.0...</td>\n",
              "    </tr>\n",
              "    <tr>\n",
              "      <th>3</th>\n",
              "      <td>276729</td>\n",
              "      <td>052165615X</td>\n",
              "      <td>3</td>\n",
              "      <td>Help!: Level 1</td>\n",
              "      <td>Philip Prowse</td>\n",
              "      <td>1999</td>\n",
              "      <td>Cambridge University Press</td>\n",
              "      <td>http://images.amazon.com/images/P/052165615X.0...</td>\n",
              "      <td>http://images.amazon.com/images/P/052165615X.0...</td>\n",
              "      <td>http://images.amazon.com/images/P/052165615X.0...</td>\n",
              "    </tr>\n",
              "    <tr>\n",
              "      <th>4</th>\n",
              "      <td>276729</td>\n",
              "      <td>0521795028</td>\n",
              "      <td>6</td>\n",
              "      <td>The Amsterdam Connection : Level 4 (Cambridge ...</td>\n",
              "      <td>Sue Leather</td>\n",
              "      <td>2001</td>\n",
              "      <td>Cambridge University Press</td>\n",
              "      <td>http://images.amazon.com/images/P/0521795028.0...</td>\n",
              "      <td>http://images.amazon.com/images/P/0521795028.0...</td>\n",
              "      <td>http://images.amazon.com/images/P/0521795028.0...</td>\n",
              "    </tr>\n",
              "  </tbody>\n",
              "</table>\n",
              "</div>\n",
              "    <div class=\"colab-df-buttons\">\n",
              "\n",
              "  <div class=\"colab-df-container\">\n",
              "    <button class=\"colab-df-convert\" onclick=\"convertToInteractive('df-709e4457-6d83-4f66-8291-21885b51d02b')\"\n",
              "            title=\"Convert this dataframe to an interactive table.\"\n",
              "            style=\"display:none;\">\n",
              "\n",
              "  <svg xmlns=\"http://www.w3.org/2000/svg\" height=\"24px\" viewBox=\"0 -960 960 960\">\n",
              "    <path d=\"M120-120v-720h720v720H120Zm60-500h600v-160H180v160Zm220 220h160v-160H400v160Zm0 220h160v-160H400v160ZM180-400h160v-160H180v160Zm440 0h160v-160H620v160ZM180-180h160v-160H180v160Zm440 0h160v-160H620v160Z\"/>\n",
              "  </svg>\n",
              "    </button>\n",
              "\n",
              "  <style>\n",
              "    .colab-df-container {\n",
              "      display:flex;\n",
              "      gap: 12px;\n",
              "    }\n",
              "\n",
              "    .colab-df-convert {\n",
              "      background-color: #E8F0FE;\n",
              "      border: none;\n",
              "      border-radius: 50%;\n",
              "      cursor: pointer;\n",
              "      display: none;\n",
              "      fill: #1967D2;\n",
              "      height: 32px;\n",
              "      padding: 0 0 0 0;\n",
              "      width: 32px;\n",
              "    }\n",
              "\n",
              "    .colab-df-convert:hover {\n",
              "      background-color: #E2EBFA;\n",
              "      box-shadow: 0px 1px 2px rgba(60, 64, 67, 0.3), 0px 1px 3px 1px rgba(60, 64, 67, 0.15);\n",
              "      fill: #174EA6;\n",
              "    }\n",
              "\n",
              "    .colab-df-buttons div {\n",
              "      margin-bottom: 4px;\n",
              "    }\n",
              "\n",
              "    [theme=dark] .colab-df-convert {\n",
              "      background-color: #3B4455;\n",
              "      fill: #D2E3FC;\n",
              "    }\n",
              "\n",
              "    [theme=dark] .colab-df-convert:hover {\n",
              "      background-color: #434B5C;\n",
              "      box-shadow: 0px 1px 3px 1px rgba(0, 0, 0, 0.15);\n",
              "      filter: drop-shadow(0px 1px 2px rgba(0, 0, 0, 0.3));\n",
              "      fill: #FFFFFF;\n",
              "    }\n",
              "  </style>\n",
              "\n",
              "    <script>\n",
              "      const buttonEl =\n",
              "        document.querySelector('#df-709e4457-6d83-4f66-8291-21885b51d02b button.colab-df-convert');\n",
              "      buttonEl.style.display =\n",
              "        google.colab.kernel.accessAllowed ? 'block' : 'none';\n",
              "\n",
              "      async function convertToInteractive(key) {\n",
              "        const element = document.querySelector('#df-709e4457-6d83-4f66-8291-21885b51d02b');\n",
              "        const dataTable =\n",
              "          await google.colab.kernel.invokeFunction('convertToInteractive',\n",
              "                                                    [key], {});\n",
              "        if (!dataTable) return;\n",
              "\n",
              "        const docLinkHtml = 'Like what you see? Visit the ' +\n",
              "          '<a target=\"_blank\" href=https://colab.research.google.com/notebooks/data_table.ipynb>data table notebook</a>'\n",
              "          + ' to learn more about interactive tables.';\n",
              "        element.innerHTML = '';\n",
              "        dataTable['output_type'] = 'display_data';\n",
              "        await google.colab.output.renderOutput(dataTable, element);\n",
              "        const docLink = document.createElement('div');\n",
              "        docLink.innerHTML = docLinkHtml;\n",
              "        element.appendChild(docLink);\n",
              "      }\n",
              "    </script>\n",
              "  </div>\n",
              "\n",
              "\n",
              "<div id=\"df-b2b12b56-f66b-41a9-a233-7b76c7a2d20a\">\n",
              "  <button class=\"colab-df-quickchart\" onclick=\"quickchart('df-b2b12b56-f66b-41a9-a233-7b76c7a2d20a')\"\n",
              "            title=\"Suggest charts\"\n",
              "            style=\"display:none;\">\n",
              "\n",
              "<svg xmlns=\"http://www.w3.org/2000/svg\" height=\"24px\"viewBox=\"0 0 24 24\"\n",
              "     width=\"24px\">\n",
              "    <g>\n",
              "        <path d=\"M19 3H5c-1.1 0-2 .9-2 2v14c0 1.1.9 2 2 2h14c1.1 0 2-.9 2-2V5c0-1.1-.9-2-2-2zM9 17H7v-7h2v7zm4 0h-2V7h2v10zm4 0h-2v-4h2v4z\"/>\n",
              "    </g>\n",
              "</svg>\n",
              "  </button>\n",
              "\n",
              "<style>\n",
              "  .colab-df-quickchart {\n",
              "      --bg-color: #E8F0FE;\n",
              "      --fill-color: #1967D2;\n",
              "      --hover-bg-color: #E2EBFA;\n",
              "      --hover-fill-color: #174EA6;\n",
              "      --disabled-fill-color: #AAA;\n",
              "      --disabled-bg-color: #DDD;\n",
              "  }\n",
              "\n",
              "  [theme=dark] .colab-df-quickchart {\n",
              "      --bg-color: #3B4455;\n",
              "      --fill-color: #D2E3FC;\n",
              "      --hover-bg-color: #434B5C;\n",
              "      --hover-fill-color: #FFFFFF;\n",
              "      --disabled-bg-color: #3B4455;\n",
              "      --disabled-fill-color: #666;\n",
              "  }\n",
              "\n",
              "  .colab-df-quickchart {\n",
              "    background-color: var(--bg-color);\n",
              "    border: none;\n",
              "    border-radius: 50%;\n",
              "    cursor: pointer;\n",
              "    display: none;\n",
              "    fill: var(--fill-color);\n",
              "    height: 32px;\n",
              "    padding: 0;\n",
              "    width: 32px;\n",
              "  }\n",
              "\n",
              "  .colab-df-quickchart:hover {\n",
              "    background-color: var(--hover-bg-color);\n",
              "    box-shadow: 0 1px 2px rgba(60, 64, 67, 0.3), 0 1px 3px 1px rgba(60, 64, 67, 0.15);\n",
              "    fill: var(--button-hover-fill-color);\n",
              "  }\n",
              "\n",
              "  .colab-df-quickchart-complete:disabled,\n",
              "  .colab-df-quickchart-complete:disabled:hover {\n",
              "    background-color: var(--disabled-bg-color);\n",
              "    fill: var(--disabled-fill-color);\n",
              "    box-shadow: none;\n",
              "  }\n",
              "\n",
              "  .colab-df-spinner {\n",
              "    border: 2px solid var(--fill-color);\n",
              "    border-color: transparent;\n",
              "    border-bottom-color: var(--fill-color);\n",
              "    animation:\n",
              "      spin 1s steps(1) infinite;\n",
              "  }\n",
              "\n",
              "  @keyframes spin {\n",
              "    0% {\n",
              "      border-color: transparent;\n",
              "      border-bottom-color: var(--fill-color);\n",
              "      border-left-color: var(--fill-color);\n",
              "    }\n",
              "    20% {\n",
              "      border-color: transparent;\n",
              "      border-left-color: var(--fill-color);\n",
              "      border-top-color: var(--fill-color);\n",
              "    }\n",
              "    30% {\n",
              "      border-color: transparent;\n",
              "      border-left-color: var(--fill-color);\n",
              "      border-top-color: var(--fill-color);\n",
              "      border-right-color: var(--fill-color);\n",
              "    }\n",
              "    40% {\n",
              "      border-color: transparent;\n",
              "      border-right-color: var(--fill-color);\n",
              "      border-top-color: var(--fill-color);\n",
              "    }\n",
              "    60% {\n",
              "      border-color: transparent;\n",
              "      border-right-color: var(--fill-color);\n",
              "    }\n",
              "    80% {\n",
              "      border-color: transparent;\n",
              "      border-right-color: var(--fill-color);\n",
              "      border-bottom-color: var(--fill-color);\n",
              "    }\n",
              "    90% {\n",
              "      border-color: transparent;\n",
              "      border-bottom-color: var(--fill-color);\n",
              "    }\n",
              "  }\n",
              "</style>\n",
              "\n",
              "  <script>\n",
              "    async function quickchart(key) {\n",
              "      const quickchartButtonEl =\n",
              "        document.querySelector('#' + key + ' button');\n",
              "      quickchartButtonEl.disabled = true;  // To prevent multiple clicks.\n",
              "      quickchartButtonEl.classList.add('colab-df-spinner');\n",
              "      try {\n",
              "        const charts = await google.colab.kernel.invokeFunction(\n",
              "            'suggestCharts', [key], {});\n",
              "      } catch (error) {\n",
              "        console.error('Error during call to suggestCharts:', error);\n",
              "      }\n",
              "      quickchartButtonEl.classList.remove('colab-df-spinner');\n",
              "      quickchartButtonEl.classList.add('colab-df-quickchart-complete');\n",
              "    }\n",
              "    (() => {\n",
              "      let quickchartButtonEl =\n",
              "        document.querySelector('#df-b2b12b56-f66b-41a9-a233-7b76c7a2d20a button');\n",
              "      quickchartButtonEl.style.display =\n",
              "        google.colab.kernel.accessAllowed ? 'block' : 'none';\n",
              "    })();\n",
              "  </script>\n",
              "</div>\n",
              "\n",
              "    </div>\n",
              "  </div>\n"
            ],
            "application/vnd.google.colaboratory.intrinsic+json": {
              "type": "dataframe",
              "variable_name": "rating"
            }
          },
          "metadata": {},
          "execution_count": 7
        }
      ],
      "source": [
        "rating.head()"
      ]
    },
    {
      "cell_type": "code",
      "execution_count": 8,
      "id": "0217794d",
      "metadata": {
        "id": "0217794d",
        "outputId": "8d54999a-b695-4a63-8245-d17c8455a776",
        "colab": {
          "base_uri": "https://localhost:8080/"
        }
      },
      "outputs": [
        {
          "output_type": "stream",
          "name": "stderr",
          "text": [
            "271360it [00:12, 22030.18it/s]\n",
            "1031136it [01:06, 15428.74it/s]\n"
          ]
        },
        {
          "output_type": "stream",
          "name": "stdout",
          "text": [
            "Maximum number of books rated by a user: 11144\n",
            "Number of users with more than 3 ratings: 24268\n"
          ]
        }
      ],
      "source": [
        "# Initialize variables\n",
        "user_dict = {}\n",
        "item_id = {}\n",
        "mx = 0  # Initialize mx before using it\n",
        "\n",
        "# Create mapping from ISBN to index\n",
        "for index, row in tqdm(books.iterrows()):\n",
        "    item_id[row['ISBN']] = index\n",
        "\n",
        "# Process ratings\n",
        "for index, row in tqdm(rating.iterrows()):\n",
        "    userid = row['User-ID']\n",
        "\n",
        "    # Check if ISBN exists in item_id to avoid KeyError\n",
        "    if row['ISBN'] not in item_id:\n",
        "        continue\n",
        "\n",
        "    # More Pythonic way to check if key exists\n",
        "    if userid not in user_dict:\n",
        "        user_dict[userid] = {\n",
        "            'ISBN': [],\n",
        "            'Book-Rating': [],\n",
        "            'Book-Title': [],\n",
        "            'Book-Author': [],\n",
        "            'Year-Of-Publication': [],\n",
        "        }\n",
        "\n",
        "    # Add data to user dictionary\n",
        "    user_dict[userid]['ISBN'].append(item_id[row['ISBN']])\n",
        "    user_dict[userid]['Book-Rating'].append(float(row['Book-Rating']))\n",
        "    user_dict[userid]['Book-Title'].append(row['Book-Title'])\n",
        "    user_dict[userid]['Book-Author'].append(row['Book-Author'])\n",
        "    user_dict[userid]['Year-Of-Publication'].append(row['Year-Of-Publication'])\n",
        "\n",
        "# Filter users with more than 3 ratings\n",
        "new_user_dict = {}\n",
        "for key in user_dict.keys():\n",
        "    # Update max length\n",
        "    mx = max(mx, len(user_dict[key]['ISBN']))\n",
        "\n",
        "    # Filter users with more than 3 ratings\n",
        "    if len(user_dict[key]['ISBN']) > 3:  # Changed <= to > to match your intent\n",
        "        new_user_dict[key] = user_dict[key]\n",
        "\n",
        "print(f\"Maximum number of books rated by a user: {mx}\")\n",
        "print(f\"Number of users with more than 3 ratings: {len(new_user_dict)}\")"
      ]
    },
    {
      "cell_type": "code",
      "execution_count": 9,
      "id": "decf42f7",
      "metadata": {
        "id": "decf42f7"
      },
      "outputs": [],
      "source": [
        "# Split users into train/valid/test sets\n",
        "\n",
        "#Extracts all the user IDs from your filtered dictionary\n",
        "user_list = list(new_user_dict.keys())\n",
        "random.seed(42)  # Set seed once at the beginning, you'll get exactly the same shuffle results everytime you run the code\n",
        "random.shuffle(user_list) #Randomly shuffles the list of user IDs in place, #Because you set a seed, this shuffle will be the same each time you run the code\n",
        "\n",
        "train_user = user_list[:int(len(user_list) * 0.8)] #Takes the first 80% of shuffled users\n",
        "valid_user = user_list[int(len(user_list) * 0.8):int(len(user_list) * 0.9)] #Takes the next 10% of shuffled users\n",
        "test_user = user_list[int(len(user_list) * 0.9):] #Takes the final 10% of shuffled users"
      ]
    },
    {
      "cell_type": "code",
      "execution_count": 10,
      "id": "0e8e83af",
      "metadata": {
        "id": "0e8e83af"
      },
      "outputs": [],
      "source": [
        "def generate_csv(user_list, output_csv, output_json, user_dict):\n",
        "    nrows = []\n",
        "    for user in user_list:\n",
        "        item_id = user_dict[user]['ISBN'].copy()  # Create copies to avoid modifying original data\n",
        "        rating = [int(_ > 5) for _ in user_dict[user]['Book-Rating']]\n",
        "\n",
        "        # Use a different seed for each user to ensure diversity\n",
        "        random_seed = hash(user) % 10000\n",
        "        random.seed(random_seed)\n",
        "\n",
        "        # Shuffle both lists with the same seed\n",
        "        combined = list(zip(item_id, rating))\n",
        "        random.shuffle(combined)\n",
        "        item_id, rating = zip(*combined)  # Unzip\n",
        "\n",
        "        # Convert back to lists\n",
        "        item_id = list(item_id)\n",
        "        rating = list(rating)\n",
        "\n",
        "        nrows.append([user, item_id[:-1][:10], rating[:-1][:10], item_id[-1], rating[-1]])\n",
        "\n",
        "    with open(output_csv, 'w') as f:\n",
        "        writer = csv.writer(f)\n",
        "        writer.writerow(['user', 'history_item_id', 'history_rating', 'item_id', 'rating'])\n",
        "        writer.writerows(nrows)\n",
        "\n",
        "    Prompt_json = []\n",
        "    for user in user_list:\n",
        "        # Create copies of all lists\n",
        "        item_id = user_dict[user]['ISBN'].copy()\n",
        "        rating = [int(_ > 5) for _ in user_dict[user]['Book-Rating']]\n",
        "        book_title = user_dict[user]['Book-Title'].copy()\n",
        "        book_author = user_dict[user]['Book-Author'].copy()\n",
        "\n",
        "        # Use a consistent seed for this user\n",
        "        random_seed = hash(user) % 10000\n",
        "        random.seed(random_seed)\n",
        "\n",
        "        # Shuffle all lists together to maintain correspondence\n",
        "        combined = list(zip(item_id, rating, book_title, book_author))\n",
        "        random.shuffle(combined)\n",
        "        item_id, rating, book_title, book_author = zip(*combined)\n",
        "\n",
        "        # Convert back to lists\n",
        "        item_id = list(item_id)\n",
        "        rating = list(rating)\n",
        "        book_title = list(book_title)\n",
        "        book_author = list(book_author)\n",
        "\n",
        "        preference = []\n",
        "        unpreference = []\n",
        "        for i in range(min(len(item_id) - 1, 10)):\n",
        "            if rating[i] == 1:\n",
        "                preference.append(f'\"{book_title[i]}\" written by {book_author[i]}')\n",
        "            else:\n",
        "                unpreference.append(f'\"{book_title[i]}\" written by {book_author[i]}')\n",
        "\n",
        "        preference_str = \", \".join(preference)\n",
        "        unpreference_str = \", \".join(unpreference)\n",
        "\n",
        "        target_preference_str = \"Yes.\" if rating[-1] == 1 else \"No.\"\n",
        "        target_book_str = f'\"{book_title[-1]}\" written by {book_author[-1]}'\n",
        "\n",
        "        Prompt_json.append({\n",
        "            \"instruction\": \"Given the user's preference and unpreference, identify whether the user will like the target book by answering \\\"Yes.\\\" or \\\"No.\\\".\",\n",
        "            \"input\": f\"User Preference: {preference_str}\\nUser Unpreference: {unpreference_str}\\nWhether the user will like the target book {target_book_str}?\",\n",
        "            \"output\": target_preference_str,\n",
        "        })\n",
        "\n",
        "    with open(output_json, 'w') as f:\n",
        "        json.dump(Prompt_json, f, indent=4)"
      ]
    },
    {
      "cell_type": "code",
      "execution_count": 11,
      "id": "88725241",
      "metadata": {
        "id": "88725241"
      },
      "outputs": [],
      "source": [
        "generate_csv(train_user, os.path.join(data_dir, 'train.csv'), os.path.join(data_dir, 'train.json'), new_user_dict)\n",
        "generate_csv(valid_user, os.path.join(data_dir, 'valid.csv'), os.path.join(data_dir, 'valid.json'), new_user_dict)\n",
        "generate_csv(test_user, os.path.join(data_dir, 'test.csv'), os.path.join(data_dir, 'test.json'), new_user_dict)"
      ]
    },
    {
      "cell_type": "markdown",
      "id": "9cd1cf1c",
      "metadata": {
        "id": "9cd1cf1c"
      },
      "source": [
        "### Reading a sample (Task Instruction + Task Input, Task Output)"
      ]
    },
    {
      "cell_type": "code",
      "execution_count": 12,
      "id": "9a05bfbf",
      "metadata": {
        "id": "9a05bfbf",
        "outputId": "2cc976a6-0a1a-4632-cb11-711cce143e48",
        "colab": {
          "base_uri": "https://localhost:8080/"
        }
      },
      "outputs": [
        {
          "output_type": "stream",
          "name": "stdout",
          "text": [
            "Given the user's preference and unpreference, identify whether the user will like the target book by answering \"Yes.\" or \"No.\".\n",
            "User Preference: \"Ordinary Resurrections: Children in the Years of Hope\" written by Jonathan Kozol, \"Resistance and Representation: Rethinking Childhood Education\" written by Janice A. Jipson, \"The Lovely Bones: A Novel\" written by Alice Sebold\n",
            "User Unpreference: \"The Girls' Guide to Hunting and Fishing\" written by Melissa Bank, \"There Are No Children Here: The Story of Two Boys Growing Up in the Other America\" written by Alex Kotlowitz\n",
            "Whether the user will like the target book \"The Skin We're In : Teaching Our Teens To Be Emotionally Strong, Socially Smart, and Spiritually Connected\" written by Janie Victoria Ward?\n",
            "No.\n",
            "\n"
          ]
        }
      ],
      "source": [
        "with open(os.path.join(data_dir, \"train.json\"), 'r') as lst:\n",
        "    b = json.load(lst)\n",
        "\n",
        "for line in b:\n",
        "    print(line[\"instruction\"])\n",
        "    print(line[\"input\"])\n",
        "    print(line[\"output\"])\n",
        "    print()\n",
        "    break"
      ]
    },
    {
      "cell_type": "markdown",
      "id": "f0749c6c",
      "metadata": {
        "id": "f0749c6c"
      },
      "source": [
        "### Cleaning up the data within datasets once done with work"
      ]
    },
    {
      "cell_type": "code",
      "execution_count": null,
      "id": "fa33333d",
      "metadata": {
        "id": "fa33333d"
      },
      "outputs": [],
      "source": [
        "# from src.common import cleanup\n",
        "# data_dir = \"llm_datasets/book_crossing\"\n",
        "# cleanup(data_dir)"
      ]
    },
    {
      "cell_type": "code",
      "execution_count": null,
      "id": "c860f482",
      "metadata": {
        "id": "c860f482"
      },
      "outputs": [],
      "source": []
    }
  ],
  "metadata": {
    "kernelspec": {
      "display_name": "Python 3",
      "name": "python3"
    },
    "language_info": {
      "codemirror_mode": {
        "name": "ipython",
        "version": 3
      },
      "file_extension": ".py",
      "mimetype": "text/x-python",
      "name": "python",
      "nbconvert_exporter": "python",
      "pygments_lexer": "ipython3",
      "version": "3.8.3"
    },
    "colab": {
      "provenance": []
    }
  },
  "nbformat": 4,
  "nbformat_minor": 5
}