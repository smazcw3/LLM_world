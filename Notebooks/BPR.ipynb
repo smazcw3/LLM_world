{
 "cells": [
  {
   "cell_type": "code",
   "execution_count": 2,
   "id": "d1788469",
   "metadata": {},
   "outputs": [],
   "source": [
    "#Reference -- https://ethen8181.github.io/machine-learning/recsys/4_bpr.html\n",
    "#Change the current path of the execution\n",
    "import sys\n",
    "import os\n",
    "cwd = f'{os.getcwd()}/../'\n",
    "sys.path.append(cwd)\n",
    "os.chdir(cwd)"
   ]
  },
  {
   "cell_type": "code",
   "execution_count": 4,
   "id": "a9fb9986",
   "metadata": {},
   "outputs": [],
   "source": [
    "%load_ext autoreload\n",
    "%autoreload 2"
   ]
  },
  {
   "cell_type": "code",
   "execution_count": 5,
   "id": "13880512",
   "metadata": {},
   "outputs": [],
   "source": [
    "import sys\n",
    "import numpy as np\n",
    "import pandas as pd\n",
    "from subprocess import call\n",
    "from src.examples_src.BPR import BPR, auc_score, create_train_test, create_matrix"
   ]
  },
  {
   "cell_type": "code",
   "execution_count": 6,
   "id": "41e6a082",
   "metadata": {},
   "outputs": [
    {
     "name": "stderr",
     "output_type": "stream",
     "text": [
      "  % Total    % Received % Xferd  Average Speed   Time    Time     Time  Current\n",
      "                                 Dload  Upload   Total   Spent    Left  Speed\n",
      "  0 4808k    0 15649    0     0  26256      0  0:03:07 --:--:--  0:03:07 26212"
     ]
    },
    {
     "name": "stdout",
     "output_type": "stream",
     "text": [
      "Archive:  datasets/ml-100k.zip\n",
      "   creating: datasets/ml-100k/\n",
      "  inflating: datasets/ml-100k/allbut.pl  \n",
      "  inflating: datasets/ml-100k/mku.sh  \n",
      "  inflating: datasets/ml-100k/README  \n",
      "  inflating: datasets/ml-100k/u.data  \n",
      "  inflating: datasets/ml-100k/u.genre  \n",
      "  inflating: datasets/ml-100k/u.info  \n",
      "  inflating: datasets/ml-100k/u.item  \n",
      "  inflating: datasets/ml-100k/u.occupation  \n",
      "  inflating: datasets/ml-100k/u.user  \n",
      "  inflating: datasets/ml-100k/u1.base  \n",
      "  inflating: datasets/ml-100k/u1.test  \n",
      "  inflating: datasets/ml-100k/u2.base  \n",
      "  inflating: datasets/ml-100k/u2.test  \n",
      "  inflating: datasets/ml-100k/u3.base  \n",
      "  inflating: datasets/ml-100k/u3.test  \n",
      "  inflating: datasets/ml-100k/u4.base  \n",
      "  inflating: datasets/ml-100k/u4.test  \n",
      "  inflating: datasets/ml-100k/u5.base  \n",
      "  inflating: datasets/ml-100k/u5.test  \n",
      "  inflating: datasets/ml-100k/ua.base  \n",
      "  inflating: datasets/ml-100k/ua.test  \n",
      "  inflating: datasets/ml-100k/ub.base  \n",
      "  inflating: datasets/ml-100k/ub.test  \n"
     ]
    },
    {
     "name": "stderr",
     "output_type": "stream",
     "text": [
      "\r",
      "100 4808k  100 4808k    0     0  3454k      0  0:00:01  0:00:01 --:--:-- 3454k\n"
     ]
    },
    {
     "data": {
      "text/plain": [
       "0"
      ]
     },
     "execution_count": 6,
     "metadata": {},
     "output_type": "execute_result"
    }
   ],
   "source": [
    "#Downloading and saving the data\n",
    "file_path = os.path.join('datasets', 'ml-100k.zip')\n",
    "call(['curl', 'http://files.grouplens.org/datasets/movielens/ml-100k.zip', '-L' ,'-o', file_path])\n",
    "call(['unzip', '-o', file_path, '-d', 'datasets/'])"
   ]
  },
  {
   "cell_type": "code",
   "execution_count": 7,
   "id": "eb46e5ba",
   "metadata": {},
   "outputs": [
    {
     "name": "stdout",
     "output_type": "stream",
     "text": [
      "data dimension: \n",
      " (100000, 4)\n"
     ]
    },
    {
     "data": {
      "text/html": [
       "<div>\n",
       "<style scoped>\n",
       "    .dataframe tbody tr th:only-of-type {\n",
       "        vertical-align: middle;\n",
       "    }\n",
       "\n",
       "    .dataframe tbody tr th {\n",
       "        vertical-align: top;\n",
       "    }\n",
       "\n",
       "    .dataframe thead th {\n",
       "        text-align: right;\n",
       "    }\n",
       "</style>\n",
       "<table border=\"1\" class=\"dataframe\">\n",
       "  <thead>\n",
       "    <tr style=\"text-align: right;\">\n",
       "      <th></th>\n",
       "      <th>user_id</th>\n",
       "      <th>item_id</th>\n",
       "      <th>rating</th>\n",
       "      <th>timestamp</th>\n",
       "    </tr>\n",
       "  </thead>\n",
       "  <tbody>\n",
       "    <tr>\n",
       "      <th>0</th>\n",
       "      <td>196</td>\n",
       "      <td>242</td>\n",
       "      <td>3</td>\n",
       "      <td>881250949</td>\n",
       "    </tr>\n",
       "    <tr>\n",
       "      <th>1</th>\n",
       "      <td>186</td>\n",
       "      <td>302</td>\n",
       "      <td>3</td>\n",
       "      <td>891717742</td>\n",
       "    </tr>\n",
       "    <tr>\n",
       "      <th>2</th>\n",
       "      <td>22</td>\n",
       "      <td>377</td>\n",
       "      <td>1</td>\n",
       "      <td>878887116</td>\n",
       "    </tr>\n",
       "    <tr>\n",
       "      <th>3</th>\n",
       "      <td>244</td>\n",
       "      <td>51</td>\n",
       "      <td>2</td>\n",
       "      <td>880606923</td>\n",
       "    </tr>\n",
       "    <tr>\n",
       "      <th>4</th>\n",
       "      <td>166</td>\n",
       "      <td>346</td>\n",
       "      <td>1</td>\n",
       "      <td>886397596</td>\n",
       "    </tr>\n",
       "  </tbody>\n",
       "</table>\n",
       "</div>"
      ],
      "text/plain": [
       "   user_id  item_id  rating  timestamp\n",
       "0      196      242       3  881250949\n",
       "1      186      302       3  891717742\n",
       "2       22      377       1  878887116\n",
       "3      244       51       2  880606923\n",
       "4      166      346       1  886397596"
      ]
     },
     "execution_count": 7,
     "metadata": {},
     "output_type": "execute_result"
    }
   ],
   "source": [
    "#Reading the data\n",
    "read_file_path = os.path.join(\"datasets\", \"ml-100k\", 'u.data')\n",
    "\n",
    "# we will not be using the timestamp column\n",
    "names = ['user_id', 'item_id', 'rating', 'timestamp']\n",
    "df = pd.read_csv(read_file_path, sep = '\\t', names = names)\n",
    "print('data dimension: \\n', df.shape)\n",
    "df.head()"
   ]
  },
  {
   "cell_type": "code",
   "execution_count": 8,
   "id": "77a7e6fa",
   "metadata": {},
   "outputs": [
    {
     "data": {
      "text/plain": [
       "943"
      ]
     },
     "execution_count": 8,
     "metadata": {},
     "output_type": "execute_result"
    }
   ],
   "source": [
    "#No. of unique users in the data\n",
    "len(df.user_id.unique())"
   ]
  },
  {
   "cell_type": "markdown",
   "id": "57f5e390",
   "metadata": {},
   "source": [
    "Because BPR assumes binary implicit feedback (meaing there's only positive and negative items), here we'll assume that an item is positive only if he/she gave the item a ratings above 3 (feel free to experiment and change the threshold). The next few code chunks, creates the sparse interaction matrix and split into train and test set."
   ]
  },
  {
   "cell_type": "code",
   "execution_count": 9,
   "id": "abcb5369",
   "metadata": {},
   "outputs": [
    {
     "name": "stderr",
     "output_type": "stream",
     "text": [
      "/Users/smaz-home/LLM_world/src/examples_src/BPR.py:319: SettingWithCopyWarning: \n",
      "A value is trying to be set on a copy of a slice from a DataFrame.\n",
      "Try using .loc[row_indexer,col_indexer] = value instead\n",
      "\n",
      "See the caveats in the documentation: https://pandas.pydata.org/pandas-docs/stable/user_guide/indexing.html#returning-a-view-versus-a-copy\n",
      "  data[ratings_col] = 1\n"
     ]
    },
    {
     "data": {
      "text/plain": [
       "<943x1574 sparse matrix of type '<class 'numpy.int64'>'\n",
       "\twith 82520 stored elements in Compressed Sparse Row format>"
      ]
     },
     "execution_count": 9,
     "metadata": {},
     "output_type": "execute_result"
    }
   ],
   "source": [
    "items_col = 'item_id'\n",
    "users_col = 'user_id'\n",
    "ratings_col = 'rating'\n",
    "threshold = 3\n",
    "X, df = create_matrix(df, users_col, items_col, ratings_col, threshold)\n",
    "X"
   ]
  },
  {
   "cell_type": "code",
   "execution_count": 10,
   "id": "74e70733",
   "metadata": {},
   "outputs": [],
   "source": [
    "X_train, X_test = create_train_test(X, test_size = 0.2, seed = 1234)"
   ]
  },
  {
   "cell_type": "code",
   "execution_count": 11,
   "id": "01c73cd5",
   "metadata": {},
   "outputs": [
    {
     "data": {
      "text/plain": [
       "<943x1574 sparse matrix of type '<class 'numpy.int64'>'\n",
       "\twith 65641 stored elements in Compressed Sparse Row format>"
      ]
     },
     "execution_count": 11,
     "metadata": {},
     "output_type": "execute_result"
    }
   ],
   "source": [
    "X_train"
   ]
  },
  {
   "cell_type": "code",
   "execution_count": 12,
   "id": "2fa4cd9d",
   "metadata": {},
   "outputs": [
    {
     "data": {
      "text/plain": [
       "<943x1574 sparse matrix of type '<class 'numpy.float64'>'\n",
       "\twith 16879 stored elements in Compressed Sparse Row format>"
      ]
     },
     "execution_count": 12,
     "metadata": {},
     "output_type": "execute_result"
    }
   ],
   "source": [
    "X_test"
   ]
  },
  {
   "cell_type": "code",
   "execution_count": 13,
   "id": "ee2b183c",
   "metadata": {},
   "outputs": [
    {
     "name": "stderr",
     "output_type": "stream",
     "text": [
      "BPR: 100%|████████████████████████████████████| 160/160 [00:03<00:00, 41.34it/s]\n"
     ]
    },
    {
     "data": {
      "text/plain": [
       "<src.examples_src.BPR.BPR at 0x7fc2e23919a0>"
      ]
     },
     "execution_count": 13,
     "metadata": {},
     "output_type": "execute_result"
    }
   ],
   "source": [
    "# parameters were randomly chosen\n",
    "bpr_params = {\n",
    "    'reg': 0.01,\n",
    "    'learning_rate': 0.1,\n",
    "    'n_iters': 160,\n",
    "    'n_factors': 15,\n",
    "    'batch_size': 100\n",
    "}\n",
    "bpr = BPR(**bpr_params)\n",
    "bpr.fit(X_train)"
   ]
  },
  {
   "cell_type": "code",
   "execution_count": 14,
   "id": "bc2e7877",
   "metadata": {},
   "outputs": [
    {
     "name": "stdout",
     "output_type": "stream",
     "text": [
      "0.8964786017422693\n",
      "0.8269677516209023\n"
     ]
    }
   ],
   "source": [
    "print(auc_score(bpr, X_train))\n",
    "print(auc_score(bpr, X_test))"
   ]
  },
  {
   "cell_type": "markdown",
   "id": "41a241a5",
   "metadata": {},
   "source": [
    "### Item Recommendations"
   ]
  },
  {
   "cell_type": "code",
   "execution_count": 15,
   "id": "636fcc69",
   "metadata": {},
   "outputs": [
    {
     "data": {
      "text/plain": [
       "array([[ 110,  180,   99,  469,   49],\n",
       "       [  66,  362,  208,   98,  433],\n",
       "       [ 400,  390,  582,  463,    1],\n",
       "       ...,\n",
       "       [ 447, 1253,  350, 1016,  863],\n",
       "       [ 243,  114,  279, 1141,  536],\n",
       "       [ 809,  750,  697,  660, 1062]], dtype=uint32)"
      ]
     },
     "execution_count": 15,
     "metadata": {},
     "output_type": "execute_result"
    }
   ],
   "source": [
    "#Given the trained model, we can get the most similar items by using the get_similar_items method, we can specify the number of most similar items by specifying the N argument. And this can be seen as the people who like/buy this also like/buy this functionality, since it's recommending similar items for a given item.\n",
    "bpr.get_similar_items(N = 5)"
   ]
  },
  {
   "cell_type": "code",
   "execution_count": 16,
   "id": "6f2a054f",
   "metadata": {},
   "outputs": [
    {
     "data": {
      "text/plain": [
       "array([[473,   6, 274, 193, 275],\n",
       "       [281, 469, 403, 317, 123],\n",
       "       [301, 309, 268, 305, 675],\n",
       "       ...,\n",
       "       [403,  99,  12, 465, 274],\n",
       "       [ 63, 890, 287,  68,   6],\n",
       "       [233, 401, 153, 202, 264]], dtype=uint32)"
      ]
     },
     "execution_count": 16,
     "metadata": {},
     "output_type": "execute_result"
    }
   ],
   "source": [
    "#On the other hand, we can also generate a top-N recommended item for each given user, by passing the sparse rating data and N to the recommend method.\n",
    "bpr.recommend(X_train, N = 5)"
   ]
  },
  {
   "cell_type": "code",
   "execution_count": null,
   "id": "8111766d",
   "metadata": {},
   "outputs": [],
   "source": []
  }
 ],
 "metadata": {
  "kernelspec": {
   "display_name": "Python 3 (ipykernel)",
   "language": "python",
   "name": "python3"
  },
  "language_info": {
   "codemirror_mode": {
    "name": "ipython",
    "version": 3
   },
   "file_extension": ".py",
   "mimetype": "text/x-python",
   "name": "python",
   "nbconvert_exporter": "python",
   "pygments_lexer": "ipython3",
   "version": "3.8.3"
  }
 },
 "nbformat": 4,
 "nbformat_minor": 5
}
