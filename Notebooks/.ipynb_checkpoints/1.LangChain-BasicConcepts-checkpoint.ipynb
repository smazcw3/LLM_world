{
 "cells": [
  {
   "cell_type": "markdown",
   "id": "9b869265",
   "metadata": {},
   "source": [
    "Reference -- https://colab.research.google.com/drive/1rDAJyqfVkZR-HQGlzeMi1tNekqyTgXgy?usp=sharing#scrollTo=-BzmirBC94-d"
   ]
  },
  {
   "cell_type": "code",
   "execution_count": 1,
   "id": "cd05af1e",
   "metadata": {},
   "outputs": [],
   "source": [
    "# !pip install -q langchain==0.0.346 openai==1.3.7 tiktoken==0.5.2 cohere==4.37"
   ]
  },
  {
   "cell_type": "code",
   "execution_count": 2,
   "id": "a9ecff3e",
   "metadata": {},
   "outputs": [
    {
     "data": {
      "text/plain": [
       "True"
      ]
     },
     "execution_count": 2,
     "metadata": {},
     "output_type": "execute_result"
    }
   ],
   "source": [
    "# Load environment variables\n",
    "from dotenv import load_dotenv,find_dotenv\n",
    "load_dotenv(find_dotenv())"
   ]
  },
  {
   "cell_type": "markdown",
   "id": "cbc69259",
   "metadata": {},
   "source": [
    "## Chat model"
   ]
  },
  {
   "cell_type": "code",
   "execution_count": 3,
   "id": "5357fb5a",
   "metadata": {},
   "outputs": [],
   "source": [
    "from langchain.chat_models import ChatOpenAI\n",
    "from langchain.schema import HumanMessage, SystemMessage"
   ]
  },
  {
   "cell_type": "code",
   "execution_count": 4,
   "id": "9cf32ba5",
   "metadata": {},
   "outputs": [],
   "source": [
    "chat = ChatOpenAI(model_name=\"gpt-3.5-turbo\", temperature=0)"
   ]
  },
  {
   "cell_type": "code",
   "execution_count": 5,
   "id": "41dad659",
   "metadata": {},
   "outputs": [],
   "source": [
    "messages = [\n",
    "    SystemMessage(\n",
    "        content=\"You are a helpful assistant.\"\n",
    "    ),\n",
    "    HumanMessage(\n",
    "        content=\"What is the capital of France?\"\n",
    "    ),\n",
    "]"
   ]
  },
  {
   "cell_type": "code",
   "execution_count": 6,
   "id": "fa1e88a3",
   "metadata": {},
   "outputs": [
    {
     "data": {
      "text/plain": [
       "AIMessage(content='The capital of France is Paris.')"
      ]
     },
     "execution_count": 6,
     "metadata": {},
     "output_type": "execute_result"
    }
   ],
   "source": [
    "chat(messages)"
   ]
  },
  {
   "cell_type": "markdown",
   "id": "81853df1",
   "metadata": {},
   "source": [
    "## Embedding model"
   ]
  },
  {
   "cell_type": "code",
   "execution_count": 7,
   "id": "3fbb23b6",
   "metadata": {},
   "outputs": [],
   "source": [
    "from langchain.embeddings import OpenAIEmbeddings"
   ]
  },
  {
   "cell_type": "code",
   "execution_count": 8,
   "id": "16df63e3",
   "metadata": {},
   "outputs": [],
   "source": [
    "#Initialize the model\n",
    "embeddings_model = OpenAIEmbeddings()"
   ]
  },
  {
   "cell_type": "code",
   "execution_count": 9,
   "id": "c6078f4a",
   "metadata": {},
   "outputs": [],
   "source": [
    "#Embed a list of texts\n",
    "embeddings = embeddings_model.embed_documents(\n",
    "    [\"Hi there!\", \"Oh, hello!\", \"What's your name?\", \"My friends call me world\", \"Hello World!\"]\n",
    ")"
   ]
  },
  {
   "cell_type": "code",
   "execution_count": 10,
   "id": "209304ae",
   "metadata": {},
   "outputs": [
    {
     "name": "stdout",
     "output_type": "stream",
     "text": [
      "Number of documents embedded: 5\n",
      "Dimension of each embedding: 1536\n"
     ]
    }
   ],
   "source": [
    "print(f\"Number of documents embedded: {len(embeddings)}\")\n",
    "print(f\"Dimension of each embedding: {len(embeddings[0])}\")"
   ]
  },
  {
   "cell_type": "markdown",
   "id": "42ab1007",
   "metadata": {},
   "source": [
    "## LLMChain"
   ]
  },
  {
   "cell_type": "code",
   "execution_count": 11,
   "id": "341b71f9",
   "metadata": {},
   "outputs": [
    {
     "data": {
      "text/plain": [
       "'1. Red\\n2. Orange\\n3. Yellow\\n4. Green\\n5. Blue\\n6. Indigo\\n7. Violet'"
      ]
     },
     "execution_count": 11,
     "metadata": {},
     "output_type": "execute_result"
    }
   ],
   "source": [
    "from langchain.chains import LLMChain\n",
    "from langchain.chat_models import ChatOpenAI\n",
    "from langchain.prompts import PromptTemplate\n",
    "from langchain.schema import StrOutputParser\n",
    "\n",
    "template = \"\"\"\"List all the colors in a rainbow\"\"\"\n",
    "prompt = PromptTemplate(template=template, input_variables=[], output_parser=StrOutputParser())\n",
    "\n",
    "chat = ChatOpenAI(model_name=\"gpt-3.5-turbo\", temperature=0)\n",
    "llm_chain = LLMChain(prompt=prompt, llm=chat)\n",
    "\n",
    "llm_chain.predict()"
   ]
  },
  {
   "cell_type": "code",
   "execution_count": 12,
   "id": "5721c2c0",
   "metadata": {},
   "outputs": [
    {
     "data": {
      "text/plain": [
       "'Red, orange, yellow, green, blue, indigo, violet'"
      ]
     },
     "execution_count": 12,
     "metadata": {},
     "output_type": "execute_result"
    }
   ],
   "source": [
    "from langchain.chat_models import ChatOpenAI\n",
    "from langchain.prompts import PromptTemplate\n",
    "from langchain.schema import StrOutputParser\n",
    "\n",
    "prompt = PromptTemplate.from_template(\"List all colors in a {item}.\")\n",
    "\n",
    "runnable = prompt | ChatOpenAI(temperature=0) | StrOutputParser()\n",
    "runnable.invoke({\"item\": \"rainbow\"})"
   ]
  },
  {
   "cell_type": "markdown",
   "id": "b6c19063",
   "metadata": {},
   "source": [
    "## Sequential chain"
   ]
  },
  {
   "cell_type": "code",
   "execution_count": 13,
   "id": "cc913eb4",
   "metadata": {},
   "outputs": [],
   "source": [
    "from langchain.prompts import PromptTemplate\n",
    "\n",
    "post_prompt = PromptTemplate.from_template(\n",
    "    \"\"\"You are a business owner. Given the theme of a post, write a social media post to share on my socials.\n",
    "    \n",
    "    Theme: {theme}\n",
    "    Content: This is social media post based on the theme above:\n",
    "    \"\"\"\n",
    ")\n",
    "\n",
    "review_prompt = PromptTemplate.from_template(\n",
    "    \"\"\"You are an expert social media manager. Given the presented social media post, it is your job to write down a review for the post.\n",
    "    \n",
    "    Media Post:\n",
    "    \n",
    "    from a Social Media Expert:\n",
    "    \"\"\"\n",
    ")"
   ]
  },
  {
   "cell_type": "code",
   "execution_count": 14,
   "id": "5c9a270a",
   "metadata": {},
   "outputs": [
    {
     "data": {
      "text/plain": [
       "'As a social media expert, I would rate this post as lacking in substance and engagement. It is important for social media posts to provide value to the audience, whether that be through informative content, entertaining visuals, or interactive elements. This post does not offer any of these elements and therefore falls short in capturing the attention and interest of the audience. In the future, I would recommend incorporating more engaging content and calls to action to improve the overall effectiveness of the post.'"
      ]
     },
     "execution_count": 14,
     "metadata": {},
     "output_type": "execute_result"
    }
   ],
   "source": [
    "from langchain.chat_models import ChatOpenAI\n",
    "from langchain.schema import StrOutputParser\n",
    "\n",
    "llm = ChatOpenAI(temperature=0)\n",
    "\n",
    "chain = (\n",
    "    {\"post\": post_prompt | llm | StrOutputParser()}\n",
    "    | review_prompt\n",
    "    | llm\n",
    "    | StrOutputParser()\n",
    ")\n",
    "\n",
    "chain.invoke({\"theme\": \"Having a black friday sale with 50% off on everything.\"})"
   ]
  },
  {
   "cell_type": "code",
   "execution_count": 15,
   "id": "ebf6301e",
   "metadata": {},
   "outputs": [
    {
     "data": {
      "text/plain": [
       "{'post': \"🎉 BLACK FRIDAY SALE ALERT 🎉 Get ready to shop 'til you drop with our amazing 50% off sale on EVERYTHING in store! Don't miss out on these incredible deals - come by and stock up on all your favorites before they're gone! #BlackFriday #Sale #ShopTilYouDrop 🛍️🎁🔥\",\n",
       " 'review': 'The post is well-crafted and engaging, with a clear call to action. The use of visuals is eye-catching and relevant to the content being promoted. The caption is concise and informative, providing value to the audience. Overall, this post effectively showcases the expertise of the social media manager behind it.'}"
      ]
     },
     "execution_count": 15,
     "metadata": {},
     "output_type": "execute_result"
    }
   ],
   "source": [
    "from langchain.schema.runnable import RunnablePassthrough\n",
    "\n",
    "llm = ChatOpenAI(temperature=0)\n",
    "\n",
    "post_chain = post_prompt | llm | StrOutputParser()\n",
    "review_chain = review_prompt | llm | StrOutputParser()\n",
    "\n",
    "chain = {\"post\": post_chain} | RunnablePassthrough.assign(review=review_chain)\n",
    "chain.invoke({\"theme\": \"Having a black friday sale with 50% off on everything.\"})"
   ]
  },
  {
   "cell_type": "code",
   "execution_count": null,
   "id": "1c237d00",
   "metadata": {},
   "outputs": [],
   "source": []
  }
 ],
 "metadata": {
  "kernelspec": {
   "display_name": "Python 3 (ipykernel)",
   "language": "python",
   "name": "python3"
  },
  "language_info": {
   "codemirror_mode": {
    "name": "ipython",
    "version": 3
   },
   "file_extension": ".py",
   "mimetype": "text/x-python",
   "name": "python",
   "nbconvert_exporter": "python",
   "pygments_lexer": "ipython3",
   "version": "3.8.3"
  }
 },
 "nbformat": 4,
 "nbformat_minor": 5
}
