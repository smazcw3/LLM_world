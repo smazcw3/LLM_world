{
 "cells": [
  {
   "cell_type": "code",
   "execution_count": null,
   "id": "a451191f",
   "metadata": {},
   "outputs": [],
   "source": [
    "#Reference -- https://www.mlexpert.io/machine-learning/tutorials/alpaca-fine-tuning\n",
    "#Reference -- https://github.com/tloen/alpaca-lora/blob/main/finetune.py"
   ]
  },
  {
   "cell_type": "markdown",
   "id": "613b1ecd",
   "metadata": {},
   "source": [
    "### Note -- Recommended to run this on GPU than CPU"
   ]
  },
  {
   "cell_type": "code",
   "execution_count": null,
   "id": "6b625364",
   "metadata": {},
   "outputs": [],
   "source": [
    "#Change the current path of the execution\n",
    "import sys\n",
    "import os\n",
    "cwd = f'{os.getcwd()}/../'\n",
    "sys.path.append(cwd)\n",
    "os.chdir(cwd)"
   ]
  },
  {
   "cell_type": "code",
   "execution_count": null,
   "id": "388f7111",
   "metadata": {},
   "outputs": [],
   "source": [
    "%pip install -U pip\n",
    "%pip install accelerate==0.18.0\n",
    "%pip install appdirs==1.4.4\n",
    "%pip install bitsandbytes==0.37.2 ##\n",
    "%pip install datasets==2.10.1\n",
    "%pip install fire==0.5.0\n",
    "%pip install git+https://github.com/huggingface/peft.git\n",
    "%pip install git+https://github.com/huggingface/transformers.git\n",
    "%pip install torch==2.0.1\n",
    "%pip install sentencepiece==0.1.97\n",
    "%pip install tensorboardX==2.6\n",
    "%pip install gradio==3.23.0\n",
    "%pip install gdown"
   ]
  },
  {
   "cell_type": "code",
   "execution_count": null,
   "id": "123b95f0",
   "metadata": {},
   "outputs": [],
   "source": [
    "%load_ext autoreload\n",
    "%autoreload 2"
   ]
  },
  {
   "cell_type": "code",
   "execution_count": null,
   "id": "baf13b6b",
   "metadata": {},
   "outputs": [],
   "source": [
    "import transformers\n",
    "import textwrap\n",
    "from transformers import LlamaTokenizer, LlamaForCausalLM\n",
    "import os\n",
    "import sys\n",
    "from typing import List\n",
    " \n",
    "from peft import (\n",
    "    LoraConfig,\n",
    "    get_peft_model,\n",
    "    get_peft_model_state_dict,\n",
    "    #prepare_model_for_int8_training, --> DEPCRECATED\n",
    "    prepare_model_for_kbit_training\n",
    ")\n",
    " \n",
    "import fire\n",
    "import torch\n",
    "from datasets import load_dataset\n",
    "import pandas as pd\n",
    " \n",
    "import matplotlib.pyplot as plt\n",
    "import matplotlib as mpl\n",
    "import seaborn as sns\n",
    "from pylab import rcParams\n",
    " \n",
    "%matplotlib inline\n",
    "sns.set(rc={'figure.figsize':(10, 7)})\n",
    "sns.set(rc={'figure.dpi':100})\n",
    "sns.set(style='white', palette='muted', font_scale=1.2)\n",
    " \n",
    "DEVICE = \"cuda\" if torch.cuda.is_available() else \"cpu\"\n",
    "DEVICE"
   ]
  },
  {
   "cell_type": "code",
   "execution_count": null,
   "id": "c8b42ba6",
   "metadata": {},
   "outputs": [],
   "source": [
    "!gdown 1xQ89cpZCnafsW5T3G3ZQWvR7q682t2BN -O datasets/"
   ]
  },
  {
   "cell_type": "code",
   "execution_count": null,
   "id": "d3363348",
   "metadata": {},
   "outputs": [],
   "source": [
    "df = pd.read_csv(\"datasets/bitcoin-sentiment-tweets.csv\")\n",
    "df.head()"
   ]
  },
  {
   "cell_type": "code",
   "execution_count": null,
   "id": "a2aadfbc",
   "metadata": {},
   "outputs": [],
   "source": [
    "def sentiment_score_to_name(score: float):\n",
    "    if score > 0:\n",
    "        return \"Positive\"\n",
    "    elif score < 0:\n",
    "        return \"Negative\"\n",
    "    return \"Neutral\"\n",
    " \n",
    "dataset_data = [\n",
    "    {\n",
    "        \"instruction\": \"Detect the sentiment of the tweet.\",\n",
    "        \"input\": row_dict[\"tweet\"],\n",
    "        \"output\": sentiment_score_to_name(row_dict[\"sentiment\"])\n",
    "    }\n",
    "    for row_dict in df.to_dict(orient=\"records\")\n",
    "]"
   ]
  },
  {
   "cell_type": "code",
   "execution_count": null,
   "id": "a9af624c",
   "metadata": {},
   "outputs": [],
   "source": [
    "#Checking the first sample\n",
    "print(dataset_data[0])"
   ]
  },
  {
   "cell_type": "code",
   "execution_count": null,
   "id": "ba535c2f",
   "metadata": {},
   "outputs": [],
   "source": [
    "import json\n",
    "with open(\"datasets/alpaca-bitcoin-sentiment-dataset.json\", \"w\") as f:\n",
    "    json.dump(dataset_data, f)"
   ]
  },
  {
   "cell_type": "code",
   "execution_count": null,
   "id": "9dd78757",
   "metadata": {},
   "outputs": [],
   "source": [
    "#BASE_MODEL = \"decapoda-research/llama-7b-hf\"\n",
    "BASE_MODEL = \"baffo32/decapoda-research-llama-7B-hf\"\n",
    "\n",
    "##The load_in_8bit=True parameter loads the model using 8-bit quantization to reduce memory usage and improve inference speed.\n",
    "model = LlamaForCausalLM.from_pretrained(\n",
    "    BASE_MODEL,\n",
    "    load_in_8bit=True,\n",
    "    torch_dtype=torch.float16,\n",
    "    device_map=\"auto\" #\"cuda:1\" #\"auto\"\n",
    ")"
   ]
  },
  {
   "cell_type": "code",
   "execution_count": null,
   "id": "3353ed7a",
   "metadata": {},
   "outputs": [],
   "source": [
    "#Loads the tokenizer for the same Llama model using the LlamaTokenizer class, and sets some additional properties for padding tokens. Specifically, it sets the pad_token_id to 0 to represent unknown tokens, and sets the padding_side to \"left\" to pad sequences on the left side.\n",
    "tokenizer = LlamaTokenizer.from_pretrained(BASE_MODEL)\n",
    " \n",
    "tokenizer.pad_token_id = (\n",
    "    0  # unk. we want this to be different from the eos token\n",
    ")\n",
    "tokenizer.padding_side = \"left\""
   ]
  },
  {
   "cell_type": "code",
   "execution_count": null,
   "id": "3047aba2",
   "metadata": {},
   "outputs": [],
   "source": [
    "#Now that we have loaded the model and tokenizer, we can proceed to load the JSON file we saved earlier using the load_dataset() function from the HuggingFace datasets library:\n",
    "\n",
    "data = load_dataset(\"json\", data_files=\"datasets/alpaca-bitcoin-sentiment-dataset.json\")\n",
    "data[\"train\"]"
   ]
  },
  {
   "cell_type": "code",
   "execution_count": null,
   "id": "55e2fdc8",
   "metadata": {},
   "outputs": [],
   "source": [
    "#Next, we need to create prompts from the loaded dataset and tokenize them\n",
    "def generate_prompt(data_point):\n",
    "    return f\"\"\"Below is an instruction that describes a task, paired with an input that provides further context. Write a response that appropriately completes the request.  # noqa: E501\n",
    "### Instruction:\n",
    "{data_point[\"instruction\"]}\n",
    "### Input:\n",
    "{data_point[\"input\"]}\n",
    "### Response:\n",
    "{data_point[\"output\"]}\"\"\"\n",
    " \n",
    "def tokenize(prompt, add_eos_token=True):\n",
    "    result = tokenizer(\n",
    "        prompt,\n",
    "        truncation=True,\n",
    "        max_length=256, #CUTOFF_LEN,\n",
    "        padding=False,\n",
    "        return_tensors=None,\n",
    "    )\n",
    "    if (\n",
    "        result[\"input_ids\"][-1] != tokenizer.eos_token_id\n",
    "        and len(result[\"input_ids\"]) < 256 #CUTOFF_LEN\n",
    "        and add_eos_token\n",
    "    ):\n",
    "        result[\"input_ids\"].append(tokenizer.eos_token_id)\n",
    "        result[\"attention_mask\"].append(1)\n",
    " \n",
    "    result[\"labels\"] = result[\"input_ids\"].copy()\n",
    " \n",
    "    return result\n",
    " \n",
    "def generate_and_tokenize_prompt(data_point):\n",
    "    full_prompt = generate_prompt(data_point)\n",
    "    tokenized_full_prompt = tokenize(full_prompt)\n",
    "    return tokenized_full_prompt\n",
    "\n",
    "\n",
    "#We want 200 examples for the validation set and apply shuffling to the data. The generate_and_tokenize_prompt() function is applied to every example in the train and validation set to generate the tokenized prompts.\n",
    "train_val = data[\"train\"].train_test_split(\n",
    "    test_size=200, shuffle=True, seed=42\n",
    ")\n",
    "train_data = (\n",
    "    train_val[\"train\"].map(generate_and_tokenize_prompt)\n",
    ")\n",
    "val_data = (\n",
    "    train_val[\"test\"].map(generate_and_tokenize_prompt)\n",
    ")"
   ]
  },
  {
   "cell_type": "markdown",
   "id": "7bf03836",
   "metadata": {},
   "source": [
    "### Training"
   ]
  },
  {
   "cell_type": "code",
   "execution_count": null,
   "id": "a51d53ab",
   "metadata": {},
   "outputs": [],
   "source": [
    "LORA_R = 8 #Lora attention dimension (rank)\n",
    "LORA_ALPHA = 16 #Alpha parameter for lora scaling\n",
    "LORA_DROPOUT= 0.05 #Dropout probability for lora layers\n",
    "LORA_TARGET_MODULES = [\"q_proj\", \"v_proj\"] #Name of the modules to apply the adapter to\n",
    " \n",
    "BATCH_SIZE = 128\n",
    "MICRO_BATCH_SIZE = 4\n",
    "GRADIENT_ACCUMULATION_STEPS = BATCH_SIZE // MICRO_BATCH_SIZE\n",
    "LEARNING_RATE = 3e-4\n",
    "TRAIN_STEPS = 100 #300\n",
    "OUTPUT_DIR = \"experiments\"\n",
    "\n",
    "#model = prepare_model_for_int8_training(model)\n",
    "model = prepare_model_for_kbit_training(model)\n",
    "\n",
    "config = LoraConfig(\n",
    "    r=LORA_R,\n",
    "    lora_alpha=LORA_ALPHA,\n",
    "    target_modules=LORA_TARGET_MODULES,\n",
    "    lora_dropout=LORA_DROPOUT,\n",
    "    bias=\"none\",\n",
    "    task_type=\"CAUSAL_LM\",\n",
    ")\n",
    "model = get_peft_model(model, config)\n",
    "#model.print_trainable_parameters()\n",
    "\n",
    "#Below we create a TrainingArguments object which specifies various settings and hyperparameters for training the model\n",
    "#https://discuss.huggingface.co/t/training-llama-with-lora-on-multiple-gpus-may-exist-bug/47005/4\n",
    "training_arguments = transformers.TrainingArguments(\n",
    "    per_device_train_batch_size=MICRO_BATCH_SIZE,\n",
    "    gradient_accumulation_steps=GRADIENT_ACCUMULATION_STEPS,\n",
    "    warmup_steps=50, #100\n",
    "    max_steps=TRAIN_STEPS,\n",
    "    learning_rate=LEARNING_RATE,\n",
    "    fp16=True,\n",
    "    logging_steps=10,\n",
    "    optim=\"adamw_torch\",\n",
    "    evaluation_strategy=\"steps\",\n",
    "    save_strategy=\"steps\",\n",
    "    eval_steps=50,\n",
    "    save_steps=50,\n",
    "    output_dir=OUTPUT_DIR,\n",
    "    save_total_limit=3,\n",
    "    load_best_model_at_end=True,\n",
    "    report_to=\"tensorboard\",\n",
    "    ddp_find_unused_parameters=False, #--> This is important, or else training won't work\n",
    ")\n",
    "\n",
    "#DataCollatorForSeq2Seq is a class from the Transformers library that creates batches of input/output sequences for sequence-to-sequence (seq2seq) models. \n",
    "#Here, a DataCollatorForSeq2Seq object is instantiated with the following parameters:\n",
    "#+ pad_to_multiple_of: An integer representing the maximum sequence length, rounded up to the nearest multiple of this value.\n",
    "#+ padding: A boolean indicating whether to pad the sequences to the specified maximum length.\n",
    "data_collator = transformers.DataCollatorForSeq2Seq(\n",
    "    tokenizer, pad_to_multiple_of=8, return_tensors=\"pt\", padding=True\n",
    ")"
   ]
  },
  {
   "cell_type": "code",
   "execution_count": null,
   "id": "0e8258c6",
   "metadata": {},
   "outputs": [],
   "source": [
    "trainer = transformers.Trainer(\n",
    "    model=model,\n",
    "    train_dataset=train_data,\n",
    "    eval_dataset=val_data,\n",
    "    args=training_arguments,\n",
    "    data_collator=data_collator\n",
    ")\n",
    "\n",
    "#After instantiating the Trainer, we set use_cache to False in the model's config, and creates a state_dict for the model using the get_peft_model_state_dict() function, which prepares the model for training using low-precision arithmetic.\n",
    "model.config.use_cache = False\n",
    "old_state_dict = model.state_dict\n",
    "model.state_dict = (\n",
    "    lambda self, *_, **__: get_peft_model_state_dict(\n",
    "        self, old_state_dict()\n",
    "    )\n",
    ").__get__(model, type(model))\n",
    " \n",
    "#Then, the torch.compile() function is called on the model, which compiles the model's computation graph and prepares it for training using PyTorch 2.\n",
    "#model = torch.compile(model) #--> SafetensorError: Error while deserializing header: InvalidHeaderDeserialization\n",
    "#https://github.com/huggingface/transformers/issues/27397\n",
    " \n",
    "trainer.train()\n",
    "model.save_pretrained(OUTPUT_DIR)"
   ]
  },
  {
   "cell_type": "code",
   "execution_count": null,
   "id": "f2cc4cf5",
   "metadata": {},
   "outputs": [],
   "source": [
    "# Try predictions on validation set for confirmation\n",
    "predictions = trainer.predict(val_data)"
   ]
  },
  {
   "cell_type": "markdown",
   "id": "423bac84",
   "metadata": {},
   "source": [
    "### Predictions"
   ]
  },
  {
   "cell_type": "code",
   "execution_count": null,
   "id": "d8750d09",
   "metadata": {},
   "outputs": [],
   "source": [
    "from transformers import LlamaTokenizer, LlamaForCausalLM\n",
    "trained_model = LlamaForCausalLM.from_pretrained(OUTPUT_DIR)"
   ]
  },
  {
   "cell_type": "code",
   "execution_count": null,
   "id": "cba08f41",
   "metadata": {},
   "outputs": [],
   "source": [
    "# Try predictions on validation set for confirmation\n",
    "predictions = trained_model.predict(val_data)"
   ]
  }
 ],
 "metadata": {
  "kernelspec": {
   "display_name": "Python 3 (ipykernel)",
   "language": "python",
   "name": "python3"
  },
  "language_info": {
   "codemirror_mode": {
    "name": "ipython",
    "version": 3
   },
   "file_extension": ".py",
   "mimetype": "text/x-python",
   "name": "python",
   "nbconvert_exporter": "python",
   "pygments_lexer": "ipython3",
   "version": "3.8.3"
  }
 },
 "nbformat": 4,
 "nbformat_minor": 5
}
