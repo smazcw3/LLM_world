{
 "cells": [
  {
   "cell_type": "code",
   "execution_count": null,
   "id": "48791250",
   "metadata": {},
   "outputs": [],
   "source": [
    "## https://iamgeekydude.com/2022/11/21/how-to-build-a-search-engine-using-bm25-ranking/\n",
    "%pip install rank-bm25"
   ]
  },
  {
   "cell_type": "code",
   "execution_count": null,
   "id": "ed0af638",
   "metadata": {},
   "outputs": [],
   "source": [
    "#Change the current path of the execution\n",
    "import sys\n",
    "import os\n",
    "cwd = f'{os.getcwd()}/../../src/'\n",
    "sys.path.append(cwd)\n",
    "os.chdir(cwd)"
   ]
  },
  {
   "cell_type": "code",
   "execution_count": null,
   "id": "46847921",
   "metadata": {},
   "outputs": [],
   "source": [
    "%load_ext autoreload\n",
    "%autoreload 2"
   ]
  },
  {
   "cell_type": "code",
   "execution_count": null,
   "id": "c7c683b9",
   "metadata": {},
   "outputs": [],
   "source": [
    "from sklearn.datasets import fetch_20newsgroups\n",
    "import string\n",
    "from rank_bm25 import BM25Okapi\n",
    "#from examples_src.BM25 import BM25\n",
    "import numpy as np"
   ]
  },
  {
   "cell_type": "code",
   "execution_count": null,
   "id": "86760723",
   "metadata": {},
   "outputs": [],
   "source": [
    "#news group dataset\n",
    "corpus = fetch_20newsgroups(subset='all',  remove=('headers', 'footers', 'quotes'))['data']\n",
    "print(corpus[0:1])\n",
    "print(len(corpus))"
   ]
  },
  {
   "cell_type": "code",
   "execution_count": null,
   "id": "54120787",
   "metadata": {},
   "outputs": [],
   "source": [
    "#Removing punctuations and lowering the case\n",
    "corpus = [doc.translate(str.maketrans('', '', string.punctuation)).replace('\\n',\"\").lower() for doc in corpus]\n",
    "\n",
    "#Tokenize the corpus because bm25 accepts only tokenized input\n",
    "tokenized_corpus = [doc.split(\" \") for doc in corpus]\n",
    "bm25 = BM25Okapi(tokenized_corpus)"
   ]
  },
  {
   "cell_type": "code",
   "execution_count": null,
   "id": "5ea81eb8",
   "metadata": {},
   "outputs": [],
   "source": [
    "#Performing Search Query to retrieve search results.\n",
    "query = \"american immigration\"\n",
    "tokenized_query = query.lower().split(\" \")\n",
    "\n",
    "#We will be using n=4 here which gives us the top 4 best matches based on the input query\n",
    "bm25.get_top_n(tokenized_query, corpus, n = 4)\n",
    "\n",
    "bm25scores = bm25.get_scores(query=tokenized_query)\n",
    "np.sort(bm25scores)[-4:][::-1]\n",
    "\n",
    "corpus[np.argmax(bm25scores)]"
   ]
  },
  {
   "cell_type": "code",
   "execution_count": null,
   "id": "15311280",
   "metadata": {},
   "outputs": [],
   "source": []
  },
  {
   "cell_type": "code",
   "execution_count": null,
   "id": "b1f86391",
   "metadata": {},
   "outputs": [],
   "source": []
  }
 ],
 "metadata": {
  "kernelspec": {
   "display_name": "Python 3 (ipykernel)",
   "language": "python",
   "name": "python3"
  },
  "language_info": {
   "codemirror_mode": {
    "name": "ipython",
    "version": 3
   },
   "file_extension": ".py",
   "mimetype": "text/x-python",
   "name": "python",
   "nbconvert_exporter": "python",
   "pygments_lexer": "ipython3",
   "version": "3.8.3"
  }
 },
 "nbformat": 4,
 "nbformat_minor": 5
}
